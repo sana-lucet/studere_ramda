{
 "cells": [
  {
   "cell_type": "markdown",
   "metadata": {},
   "source": [
    "## 1.1"
   ]
  },
  {
   "cell_type": "markdown",
   "metadata": {},
   "source": [
    "### 1.1.1"
   ]
  },
  {
   "cell_type": "code",
   "execution_count": 1,
   "metadata": {},
   "outputs": [
    {
     "data": {
      "text/plain": [
       "15"
      ]
     },
     "execution_count": 1,
     "metadata": {},
     "output_type": "execute_result"
    }
   ],
   "source": [
    "function addMaker(a) {\n",
    "    return function(b) {\n",
    "        return a + b;\n",
    "    }\n",
    "}\n",
    "\n",
    "addMaker(10)(5);"
   ]
  },
  {
   "cell_type": "code",
   "execution_count": 2,
   "metadata": {},
   "outputs": [
    {
     "data": {
      "text/plain": [
       "9"
      ]
     },
     "execution_count": 2,
     "metadata": {},
     "output_type": "execute_result"
    }
   ],
   "source": [
    "var add5 = addMaker(5);\n",
    "add5(3);\n",
    "add5(4);"
   ]
  },
  {
   "cell_type": "code",
   "execution_count": 3,
   "metadata": {},
   "outputs": [],
   "source": [
    "var v1 = 100;\n",
    "var v2 = function() {};\n",
    "function f1() { return 100; }\n",
    "function f2() { return function() {}; }"
   ]
  },
  {
   "cell_type": "markdown",
   "metadata": {},
   "source": [
    "### 1.1.2"
   ]
  },
  {
   "cell_type": "code",
   "execution_count": 4,
   "metadata": {},
   "outputs": [
    {
     "data": {
      "text/plain": [
       "7"
      ]
     },
     "execution_count": 4,
     "metadata": {},
     "output_type": "execute_result"
    }
   ],
   "source": [
    "function addMaker(a) {\n",
    "    return function(b) {\n",
    "        return a + b;\n",
    "    }\n",
    "}\n",
    "addMaker(10)(5);\n",
    "\n",
    "var add5 = addMaker(5);\n",
    "add5(3);\n",
    "add5(4);\n",
    "\n",
    "var add3 = addMaker(3);\n",
    "add3(3);\n",
    "add3(4);"
   ]
  },
  {
   "cell_type": "markdown",
   "metadata": {},
   "source": [
    "## 1.2"
   ]
  },
  {
   "cell_type": "markdown",
   "metadata": {},
   "source": [
    "### 1.2.1"
   ]
  },
  {
   "cell_type": "code",
   "execution_count": 5,
   "metadata": {},
   "outputs": [],
   "source": [
    "var users = [\n",
    "    { id: 1, name: \"ID\", age: 32 },\n",
    "    { id: 2, name: \"HA\", age: 25 },\n",
    "    { id: 3, name: \"BJ\", age: 32 },\n",
    "    { id: 4, name: \"PJ\", age: 28 },\n",
    "    { id: 5, name: \"JE\", age: 27 },\n",
    "    { id: 6, name: \"JM\", age: 32 },\n",
    "    { id: 7, name: \"HI\", age: 24 }\n",
    "]"
   ]
  },
  {
   "cell_type": "code",
   "execution_count": 6,
   "metadata": {},
   "outputs": [
    {
     "name": "stdout",
     "output_type": "stream",
     "text": [
      "4\n"
     ]
    }
   ],
   "source": [
    "var temp_users = [];\n",
    "for ( var i = 0, len = users.length; i < len; i++ ){\n",
    "    if ( users[i].age < 30 ) temp_users.push(users[i]);\n",
    "}\n",
    "\n",
    "console.log(temp_users.length);"
   ]
  },
  {
   "cell_type": "code",
   "execution_count": 7,
   "metadata": {},
   "outputs": [
    {
     "name": "stdout",
     "output_type": "stream",
     "text": [
      "[ 25, 28, 27, 24 ]\n"
     ]
    }
   ],
   "source": [
    "var ages = [];\n",
    "for ( var i = 0, len = temp_users.length; i < len; i++ ) {\n",
    "    ages.push(temp_users[i].age);\n",
    "}\n",
    "\n",
    "console.log(ages);"
   ]
  },
  {
   "cell_type": "code",
   "execution_count": 8,
   "metadata": {},
   "outputs": [
    {
     "name": "stdout",
     "output_type": "stream",
     "text": [
      "3\n"
     ]
    }
   ],
   "source": [
    "var temp_users = [];\n",
    "for ( var i = 0, len = users.length; i < len; i++ ) {\n",
    "    if (users[i].age >= 30) temp_users.push(users[i]);\n",
    "}\n",
    "\n",
    "console.log(temp_users.length);"
   ]
  },
  {
   "cell_type": "code",
   "execution_count": 9,
   "metadata": {},
   "outputs": [
    {
     "name": "stdout",
     "output_type": "stream",
     "text": [
      "[ 'ID', 'BJ', 'JM' ]\n"
     ]
    }
   ],
   "source": [
    "var names = [];\n",
    "for ( var i = 0, len = temp_users.length; i < len; i++ ) {\n",
    "    names.push(temp_users[i].name);\n",
    "}\n",
    "\n",
    "console.log(names);"
   ]
  },
  {
   "cell_type": "code",
   "execution_count": 10,
   "metadata": {},
   "outputs": [
    {
     "data": {
      "text/plain": [
       "4"
      ]
     },
     "execution_count": 10,
     "metadata": {},
     "output_type": "execute_result"
    }
   ],
   "source": [
    "var temp_users = [];\n",
    "for ( var i = 0, len = users.length; i < len; i++ ) {\n",
    "    if ( users[i].age < 30 ) temp_users.push(users[i]);\n",
    "}"
   ]
  },
  {
   "cell_type": "markdown",
   "metadata": {},
   "source": [
    "### 1.2.2"
   ]
  },
  {
   "cell_type": "code",
   "execution_count": 11,
   "metadata": {},
   "outputs": [],
   "source": [
    "function filter(list, predicate) {\n",
    "    var new_list = [];\n",
    "    for ( var i = 0, len = list.length; i < len; i++ ){\n",
    "        if (predicate(list[i])) new_list.push(list[i]);\n",
    "    }\n",
    "    return new_list;\n",
    "}"
   ]
  },
  {
   "cell_type": "code",
   "execution_count": 12,
   "metadata": {},
   "outputs": [
    {
     "name": "stdout",
     "output_type": "stream",
     "text": [
      "4\n"
     ]
    }
   ],
   "source": [
    "var users_under_30 = filter(users, function(user) { return user.age < 30 });\n",
    "console.log(users_under_30.length);"
   ]
  },
  {
   "cell_type": "code",
   "execution_count": 13,
   "metadata": {},
   "outputs": [
    {
     "name": "stdout",
     "output_type": "stream",
     "text": [
      "[ 25, 28, 27, 24 ]\n"
     ]
    }
   ],
   "source": [
    "var ages = [];\n",
    "for (var i = 0, len = users_under_30.length; i < len; i++ ) {\n",
    "    ages.push(users_under_30[i].age);\n",
    "}\n",
    "\n",
    "console.log(ages);"
   ]
  },
  {
   "cell_type": "code",
   "execution_count": 14,
   "metadata": {},
   "outputs": [
    {
     "name": "stdout",
     "output_type": "stream",
     "text": [
      "3\n"
     ]
    }
   ],
   "source": [
    "var users_over_30 = filter(users, function(user) { return user.age >= 30 });\n",
    "console.log(users_over_30.length);"
   ]
  },
  {
   "cell_type": "code",
   "execution_count": 15,
   "metadata": {},
   "outputs": [
    {
     "name": "stdout",
     "output_type": "stream",
     "text": [
      "[ 'ID', 'BJ', 'JM' ]\n"
     ]
    }
   ],
   "source": [
    "var names = [];\n",
    "for ( var i = 0, len = users_over_30.length; i < len; i++ ) {\n",
    "    names.push(users_over_30[i].name);\n",
    "}\n",
    "console.log(names);"
   ]
  },
  {
   "cell_type": "markdown",
   "metadata": {},
   "source": [
    "### 1.2.4"
   ]
  },
  {
   "cell_type": "code",
   "execution_count": 16,
   "metadata": {},
   "outputs": [
    {
     "name": "stdout",
     "output_type": "stream",
     "text": [
      "[ 25, 28, 27, 24 ]\n"
     ]
    }
   ],
   "source": [
    "var ages = [];\n",
    "for ( var i = 0, len = users_under_30.length; i < len; i++ ) {\n",
    "    ages.push(users_under_30[i].age);\n",
    "}\n",
    "console.log(ages);"
   ]
  },
  {
   "cell_type": "code",
   "execution_count": 17,
   "metadata": {},
   "outputs": [
    {
     "name": "stdout",
     "output_type": "stream",
     "text": [
      "[ 'ID', 'BJ', 'JM' ]\n"
     ]
    }
   ],
   "source": [
    "var names = [];\n",
    "for ( var i = 0, len = users_over_30.length; i < len; i++ ) {\n",
    "    names.push(users_over_30[i].name);\n",
    "}\n",
    "console.log(names);"
   ]
  },
  {
   "cell_type": "code",
   "execution_count": 18,
   "metadata": {},
   "outputs": [],
   "source": [
    "function map(list, iteratee) {\n",
    "    var new_list = [];\n",
    "    for (var i = 0, len = list.length; i < len; i ++ ){\n",
    "        new_list.push(iteratee(list[i]));\n",
    "    }\n",
    "    return new_list;\n",
    "}"
   ]
  },
  {
   "cell_type": "code",
   "execution_count": 19,
   "metadata": {},
   "outputs": [
    {
     "name": "stdout",
     "output_type": "stream",
     "text": [
      "4\n"
     ]
    }
   ],
   "source": [
    "var users_under_30 = filter(users, function(user) { return user.age < 30; });\n",
    "console.log(users_under_30.length);"
   ]
  },
  {
   "cell_type": "code",
   "execution_count": 20,
   "metadata": {},
   "outputs": [
    {
     "name": "stdout",
     "output_type": "stream",
     "text": [
      "[ 25, 28, 27, 24 ]\n"
     ]
    }
   ],
   "source": [
    "var ages = map(users_under_30, function(user) { return user.age; });\n",
    "console.log(ages);"
   ]
  },
  {
   "cell_type": "code",
   "execution_count": 21,
   "metadata": {},
   "outputs": [
    {
     "name": "stdout",
     "output_type": "stream",
     "text": [
      "3\n"
     ]
    }
   ],
   "source": [
    "var users_over_30 = filter(users, function(user) { return user.age >= 30; });\n",
    "console.log(users_over_30.length);"
   ]
  },
  {
   "cell_type": "code",
   "execution_count": 22,
   "metadata": {},
   "outputs": [
    {
     "name": "stdout",
     "output_type": "stream",
     "text": [
      "[ 'ID', 'BJ', 'JM' ]\n"
     ]
    }
   ],
   "source": [
    "var names = map(users_over_30, function(user) { return user.name; });\n",
    "console.log(names);"
   ]
  },
  {
   "cell_type": "markdown",
   "metadata": {},
   "source": [
    "### 1.2.5"
   ]
  },
  {
   "cell_type": "code",
   "execution_count": 23,
   "metadata": {},
   "outputs": [
    {
     "name": "stdout",
     "output_type": "stream",
     "text": [
      "4\n",
      "[ 25, 28, 27, 24 ]\n"
     ]
    }
   ],
   "source": [
    "var ages = map(\n",
    "    filter(users, function(user) { return user.age < 30 }), \n",
    "    function(user) { return user.age; }\n",
    ");\n",
    "console.log(ages.length);\n",
    "console.log(ages);"
   ]
  },
  {
   "cell_type": "code",
   "execution_count": 24,
   "metadata": {},
   "outputs": [
    {
     "name": "stdout",
     "output_type": "stream",
     "text": [
      "3\n",
      "[ 'ID', 'BJ', 'JM' ]\n"
     ]
    }
   ],
   "source": [
    "var names = map(\n",
    "    filter(users, function(user) { return user.age >= 30 }), \n",
    "    function(user) { return user.name; }\n",
    ");\n",
    "console.log(names.length);\n",
    "console.log(names);"
   ]
  },
  {
   "cell_type": "code",
   "execution_count": 25,
   "metadata": {},
   "outputs": [
    {
     "name": "stdout",
     "output_type": "stream",
     "text": [
      "4\n",
      "[ 'HA', 'PJ', 'JE', 'HI' ]\n"
     ]
    }
   ],
   "source": [
    "function log_length(value) {\n",
    "    console.log(value.length);\n",
    "    return value;\n",
    "}\n",
    "console.log(\n",
    "    log_length(\n",
    "        map(\n",
    "            filter(\n",
    "                users, \n",
    "                function(user) { return user.age < 30 }\n",
    "            ),\n",
    "            function(user) { return user.name; }\n",
    "        )\n",
    "    )\n",
    ")"
   ]
  },
  {
   "cell_type": "code",
   "execution_count": 26,
   "metadata": {},
   "outputs": [],
   "source": [
    "function filter(list, predicate) {\n",
    "    var new_list = [];\n",
    "    for ( var i = 0, len = list.length; i < len; i++ ) {\n",
    "        if(predicate(list[i])) new_list.push(list[i]);\n",
    "    }\n",
    "    return new_list;\n",
    "}"
   ]
  },
  {
   "cell_type": "raw",
   "metadata": {},
   "source": [
    "function map(list, iteratee) {\n",
    "    var new_list = [];\n",
    "    for ( var i = 0, len = list.length; i < len; i++ ) {\n",
    "        new_list.push(iteratee(list[i]));\n",
    "    }\n",
    "}"
   ]
  },
  {
   "cell_type": "code",
   "execution_count": 27,
   "metadata": {},
   "outputs": [],
   "source": [
    "function log_length(value) {\n",
    "    console.log(value.length);\n",
    "    return value;\n",
    "}"
   ]
  },
  {
   "cell_type": "code",
   "execution_count": 28,
   "metadata": {},
   "outputs": [
    {
     "name": "stdout",
     "output_type": "stream",
     "text": [
      "4\n",
      "[ 25, 28, 27, 24 ]\n"
     ]
    }
   ],
   "source": [
    "console.log(\n",
    "    log_length(\n",
    "        map(\n",
    "            filter(\n",
    "                users, \n",
    "                function(user) { return user.age < 30 }\n",
    "            ),\n",
    "            function(user) { return user.age; }\n",
    "        )\n",
    "    )\n",
    ");"
   ]
  },
  {
   "cell_type": "markdown",
   "metadata": {},
   "source": [
    "### 1.2.6"
   ]
  },
  {
   "cell_type": "code",
   "execution_count": 29,
   "metadata": {},
   "outputs": [
    {
     "data": {
      "text/plain": [
       "'hi'"
      ]
     },
     "execution_count": 29,
     "metadata": {},
     "output_type": "execute_result"
    }
   ],
   "source": [
    "function addMaker(a) {\n",
    "    return function(b) {\n",
    "        return a + b;\n",
    "    }\n",
    "}\n",
    "\n",
    "function bvalue(key) {\n",
    "    return function(obj){\n",
    "        return obj[key];\n",
    "    }\n",
    "}\n",
    "\n",
    "bvalue('a')({ a: 'hi', b: 'hello' })"
   ]
  },
  {
   "cell_type": "code",
   "execution_count": 30,
   "metadata": {},
   "outputs": [
    {
     "name": "stdout",
     "output_type": "stream",
     "text": [
      "4\n",
      "[ 25, 28, 27, 24 ]\n"
     ]
    }
   ],
   "source": [
    "console.log(\n",
    "    log_length(\n",
    "        map(\n",
    "            filter(\n",
    "                users,\n",
    "                function(user) { return user.age < 30 }\n",
    "            ),\n",
    "            bvalue('age')\n",
    "        )\n",
    "    )\n",
    ");"
   ]
  },
  {
   "cell_type": "code",
   "execution_count": 31,
   "metadata": {},
   "outputs": [
    {
     "name": "stdout",
     "output_type": "stream",
     "text": [
      "4\n",
      "[ 25, 28, 27, 24 ]\n"
     ]
    }
   ],
   "source": [
    "console.log(log_length(\n",
    "    map(filter(users, u => u.age < 30), u => u.age)));"
   ]
  },
  {
   "cell_type": "code",
   "execution_count": 32,
   "metadata": {},
   "outputs": [
    {
     "name": "stdout",
     "output_type": "stream",
     "text": [
      "3\n",
      "[ 32, 32, 32 ]\n"
     ]
    }
   ],
   "source": [
    "console.log(log_length(\n",
    "    map(filter(users, u => u.age >= 30), u => u.age)));"
   ]
  },
  {
   "cell_type": "code",
   "execution_count": 33,
   "metadata": {},
   "outputs": [],
   "source": [
    "var under_30 = u => u.age < 30;\n",
    "var over_30 = u => u.age >= 30;"
   ]
  },
  {
   "cell_type": "code",
   "execution_count": 34,
   "metadata": {},
   "outputs": [
    {
     "name": "stdout",
     "output_type": "stream",
     "text": [
      "4\n",
      "[ 25, 28, 27, 24 ]\n"
     ]
    }
   ],
   "source": [
    "console.log(log_length(\n",
    "    map(filter(users, under_30), u => u.age)));"
   ]
  },
  {
   "cell_type": "code",
   "execution_count": 35,
   "metadata": {},
   "outputs": [
    {
     "name": "stdout",
     "output_type": "stream",
     "text": [
      "3\n",
      "[ 32, 32, 32 ]\n"
     ]
    }
   ],
   "source": [
    "console.log(log_length(\n",
    "    map(filter(users, over_30), u => u.age)));"
   ]
  },
  {
   "cell_type": "code",
   "execution_count": 36,
   "metadata": {},
   "outputs": [],
   "source": [
    "var ages = list => map(list, v => v.age);\n",
    "var names = list => map(list, v => v.name);"
   ]
  },
  {
   "cell_type": "code",
   "execution_count": 151,
   "metadata": {},
   "outputs": [
    {
     "name": "stdout",
     "output_type": "stream",
     "text": [
      "4\n",
      "[ 25, 28, 27, 24 ]\n"
     ]
    }
   ],
   "source": [
    "console.log(log_length(ages(filter(users, under_30))));"
   ]
  },
  {
   "cell_type": "code",
   "execution_count": 152,
   "metadata": {},
   "outputs": [
    {
     "name": "stdout",
     "output_type": "stream",
     "text": [
      "3\n",
      "[ 'ID', 'BJ', 'JM' ]\n"
     ]
    }
   ],
   "source": [
    "console.log(log_length(names(filter(users,over_30))));"
   ]
  },
  {
   "cell_type": "code",
   "execution_count": 39,
   "metadata": {},
   "outputs": [],
   "source": [
    "function bvalues(key) {\n",
    "    return function(list) {\n",
    "        return map(list, function(v) { return v[key]; });\n",
    "    }\n",
    "}"
   ]
  },
  {
   "cell_type": "code",
   "execution_count": 40,
   "metadata": {},
   "outputs": [],
   "source": [
    "var ages = bvalues('age');\n",
    "var names = bvalues('name');\n",
    "var under_30 = function(u) { return u.age < 30; };\n",
    "var over_30 = function(u) { return u.age >= 30; };"
   ]
  },
  {
   "cell_type": "code",
   "execution_count": 41,
   "metadata": {},
   "outputs": [
    {
     "name": "stdout",
     "output_type": "stream",
     "text": [
      "4\n",
      "[ 25, 28, 27, 24 ]\n"
     ]
    }
   ],
   "source": [
    "console.log(log_length(ages(filter(users, under_30))));"
   ]
  },
  {
   "cell_type": "code",
   "execution_count": 42,
   "metadata": {},
   "outputs": [
    {
     "name": "stdout",
     "output_type": "stream",
     "text": [
      "3\n",
      "[ 'ID', 'BJ', 'JM' ]\n"
     ]
    }
   ],
   "source": [
    "console.log(log_length(names(filter(users, over_30))))"
   ]
  },
  {
   "cell_type": "markdown",
   "metadata": {},
   "source": [
    "## 1.3"
   ]
  },
  {
   "cell_type": "markdown",
   "metadata": {},
   "source": [
    "### 1.3.1"
   ]
  },
  {
   "cell_type": "code",
   "execution_count": 43,
   "metadata": {},
   "outputs": [],
   "source": [
    "var users = [\n",
    "    { id: 1, name: \"ID\", age: 32 },\n",
    "    { id: 2, name: \"HA\", age: 25 },\n",
    "    { id: 3, name: \"BJ\", age: 32 },\n",
    "    { id: 4, name: \"PJ\", age: 28 },\n",
    "    { id: 5, name: \"JE\", age: 27 },\n",
    "    { id: 6, name: \"JM\", age: 32 },\n",
    "    { id: 7, name: \"HI\", age: 24 }\n",
    "];"
   ]
  },
  {
   "cell_type": "code",
   "execution_count": 44,
   "metadata": {},
   "outputs": [
    {
     "name": "stdout",
     "output_type": "stream",
     "text": [
      "{ id: 3, name: 'BJ', age: 32 }\n"
     ]
    }
   ],
   "source": [
    "console.log(\n",
    "    filter(users, function(user) { return user.id == 3 }) [0]\n",
    ")"
   ]
  },
  {
   "cell_type": "code",
   "execution_count": 45,
   "metadata": {},
   "outputs": [
    {
     "name": "stdout",
     "output_type": "stream",
     "text": [
      "{ id: 3, name: 'BJ', age: 32 }\n"
     ]
    }
   ],
   "source": [
    "var user;\n",
    "for ( var i = 0, len = users.length; i < len; i++ ) {\n",
    "    if ( users[i].id == 3 ) {\n",
    "        user = users[i];\n",
    "        break;\n",
    "    }\n",
    "}\n",
    "console.log(user)"
   ]
  },
  {
   "cell_type": "code",
   "execution_count": 46,
   "metadata": {},
   "outputs": [
    {
     "name": "stdout",
     "output_type": "stream",
     "text": [
      "{ id: 3, name: 'BJ', age: 32 }\n",
      "{ id: 5, name: 'JE', age: 27 }\n"
     ]
    }
   ],
   "source": [
    "function findById(list, id) {\n",
    "    for ( var i = 0, len = list.length; i < len; i++ ) {\n",
    "        if ( list[i].id == id ) return list[i];\n",
    "    }\n",
    "}\n",
    "console.log(findById(users, 3));\n",
    "console.log(findById(users, 5));"
   ]
  },
  {
   "cell_type": "code",
   "execution_count": 47,
   "metadata": {},
   "outputs": [
    {
     "name": "stdout",
     "output_type": "stream",
     "text": [
      "{ id: 3, name: 'BJ', age: 32 }\n",
      "{ id: 5, name: 'JE', age: 27 }\n"
     ]
    }
   ],
   "source": [
    "function findByName(list, name) {\n",
    "    for ( var i = 0, len = list.length; i < len; i++ ){\n",
    "        if ( list[i].name == name ) return list[i];\n",
    "    }\n",
    "}\n",
    "console.log(findByName(users, 'BJ'));\n",
    "console.log(findByName(users, 'JE'));"
   ]
  },
  {
   "cell_type": "code",
   "execution_count": 48,
   "metadata": {},
   "outputs": [
    {
     "name": "stdout",
     "output_type": "stream",
     "text": [
      "{ id: 4, name: 'PJ', age: 28 }\n",
      "{ id: 2, name: 'HA', age: 25 }\n"
     ]
    }
   ],
   "source": [
    "function findByAge(list, age) {\n",
    "    for ( var i = 0, len = list.length; i < len; i++ ) {\n",
    "        if ( list[i].age == age ) return list[i];\n",
    "    }\n",
    "}\n",
    "console.log(findByAge(users, 28));\n",
    "console.log(findByAge(users, 25));"
   ]
  },
  {
   "cell_type": "code",
   "execution_count": 49,
   "metadata": {},
   "outputs": [
    {
     "name": "stdout",
     "output_type": "stream",
     "text": [
      "{ id: 3, name: 'BJ', age: 32 }\n",
      "{ id: 2, name: 'HA', age: 25 }\n",
      "{ id: 4, name: 'PJ', age: 28 }\n"
     ]
    }
   ],
   "source": [
    "function findBy(key, list, val) {\n",
    "    for ( var i = 0, len = list.length; i < len; i++ ) {\n",
    "        if ( list[i][key] == val ) return list[i];\n",
    "    }\n",
    "}\n",
    "\n",
    "console.log( findBy('name', users, 'BJ'));\n",
    "console.log( findBy('id', users, 2));\n",
    "console.log( findBy('age', users, 28));"
   ]
  },
  {
   "cell_type": "code",
   "execution_count": 50,
   "metadata": {},
   "outputs": [],
   "source": [
    "function User(id, name, age) {\n",
    "    this.getId = function() {\n",
    "        return id;\n",
    "    };\n",
    "    this.getName = function() {\n",
    "        return name;\n",
    "    };\n",
    "    this.getAge = function() {\n",
    "        return age;\n",
    "    };\n",
    "}"
   ]
  },
  {
   "cell_type": "code",
   "execution_count": 51,
   "metadata": {},
   "outputs": [],
   "source": [
    "var user2 = [\n",
    "    new User(1, \"ID\", 32),\n",
    "    new User(2, \"HA\", 25),\n",
    "    new User(3, \"BJ\", 32),\n",
    "    new User(4, \"PJ\", 28),\n",
    "    new User(5, \"JE\", 27),\n",
    "    new User(6, \"JM\", 32),\n",
    "    new User(7, \"HI\", 24)\n",
    "];"
   ]
  },
  {
   "cell_type": "code",
   "execution_count": 52,
   "metadata": {},
   "outputs": [],
   "source": [
    "function findBy(key, list, val) {\n",
    "    for (var i = 0, len = list.length; i < len; i++) {\n",
    "        if(list[i][key] === val) return list[i];\n",
    "    }\n",
    "}"
   ]
  },
  {
   "cell_type": "code",
   "execution_count": 53,
   "metadata": {},
   "outputs": [
    {
     "name": "stdout",
     "output_type": "stream",
     "text": [
      "undefined\n"
     ]
    }
   ],
   "source": [
    "console.log( findBy('age', user2, 25) );"
   ]
  },
  {
   "cell_type": "markdown",
   "metadata": {},
   "source": [
    "### 1.3.2"
   ]
  },
  {
   "cell_type": "code",
   "execution_count": 54,
   "metadata": {},
   "outputs": [
    {
     "name": "stdout",
     "output_type": "stream",
     "text": [
      "HA\n"
     ]
    }
   ],
   "source": [
    "function find(list, predicate) {\n",
    "    for (var i = 0, len = list.length; i < len; i++) {\n",
    "        if (predicate(list[i])) return list[i];\n",
    "    }\n",
    "}\n",
    "console.log(\n",
    "    find(user2, function(u) { return u.getAge() == 25; }).getName()\n",
    ");"
   ]
  },
  {
   "cell_type": "code",
   "execution_count": 55,
   "metadata": {},
   "outputs": [
    {
     "name": "stdout",
     "output_type": "stream",
     "text": [
      "{ id: 4, name: 'PJ', age: 28 }\n"
     ]
    }
   ],
   "source": [
    "console.log(\n",
    "    find(users, function(u) { return u.name.indexOf('P') != -1;})\n",
    ")"
   ]
  },
  {
   "cell_type": "code",
   "execution_count": 56,
   "metadata": {},
   "outputs": [
    {
     "name": "stdout",
     "output_type": "stream",
     "text": [
      "{ id: 6, name: 'JM', age: 32 }\n"
     ]
    }
   ],
   "source": [
    "console.log(\n",
    "    find(users, function(u) { return u.age == 32 && u.name == 'JM';})\n",
    ")"
   ]
  },
  {
   "cell_type": "code",
   "execution_count": 57,
   "metadata": {},
   "outputs": [
    {
     "name": "stdout",
     "output_type": "stream",
     "text": [
      "HA\n"
     ]
    }
   ],
   "source": [
    "console.log(\n",
    "    find(user2, function(u) { return u.getAge() < 30; }).getName()\n",
    ")"
   ]
  },
  {
   "cell_type": "code",
   "execution_count": 58,
   "metadata": {},
   "outputs": [
    {
     "name": "stdout",
     "output_type": "stream",
     "text": [
      "[ 'ID', 'BJ', 'JM' ]\n"
     ]
    }
   ],
   "source": [
    "console.log(\n",
    "    map(\n",
    "        filter(users, function(u) { return u.age >= 30 }),\n",
    "        function(u) { return u.name; }\n",
    "    )\n",
    ")"
   ]
  },
  {
   "cell_type": "code",
   "execution_count": 59,
   "metadata": {},
   "outputs": [
    {
     "name": "stdout",
     "output_type": "stream",
     "text": [
      "[ 'ID', 'BJ', 'JM' ]\n"
     ]
    }
   ],
   "source": [
    "console.log(\n",
    "    map(\n",
    "        filter(user2, function(u) { return u.getAge() >= 30 }),\n",
    "        function(u) { return u.getName() }\n",
    "    )\n",
    ")"
   ]
  },
  {
   "cell_type": "markdown",
   "metadata": {},
   "source": [
    "### 1.3.3"
   ]
  },
  {
   "cell_type": "code",
   "execution_count": 60,
   "metadata": {},
   "outputs": [],
   "source": [
    "function bmatch1(key, val) {\n",
    "    return function(obj) {\n",
    "        return obj[key] === val;\n",
    "    }\n",
    "}"
   ]
  },
  {
   "cell_type": "code",
   "execution_count": 61,
   "metadata": {},
   "outputs": [
    {
     "name": "stdout",
     "output_type": "stream",
     "text": [
      "{ id: 1, name: 'ID', age: 32 }\n"
     ]
    }
   ],
   "source": [
    "console.log(find(users, bmatch1('id',1)));"
   ]
  },
  {
   "cell_type": "code",
   "execution_count": 62,
   "metadata": {},
   "outputs": [
    {
     "name": "stdout",
     "output_type": "stream",
     "text": [
      "{ id: 7, name: 'HI', age: 24 }\n"
     ]
    }
   ],
   "source": [
    "console.log(find(users, bmatch1('name', 'HI')));"
   ]
  },
  {
   "cell_type": "code",
   "execution_count": 63,
   "metadata": {},
   "outputs": [
    {
     "name": "stdout",
     "output_type": "stream",
     "text": [
      "{ id: 5, name: 'JE', age: 27 }\n"
     ]
    }
   ],
   "source": [
    "console.log(find(users, bmatch1('age', 27)));"
   ]
  },
  {
   "cell_type": "code",
   "execution_count": 64,
   "metadata": {},
   "outputs": [
    {
     "name": "stdout",
     "output_type": "stream",
     "text": [
      "[ { id: 1, name: 'ID', age: 32 },\n",
      "  { id: 3, name: 'BJ', age: 32 },\n",
      "  { id: 6, name: 'JM', age: 32 } ]\n"
     ]
    }
   ],
   "source": [
    "console.log(filter(users, bmatch1('age', 32)));"
   ]
  },
  {
   "cell_type": "code",
   "execution_count": 65,
   "metadata": {},
   "outputs": [
    {
     "name": "stdout",
     "output_type": "stream",
     "text": [
      "[ true, false, true, false, false, true, false ]\n"
     ]
    }
   ],
   "source": [
    "console.log(map(users, bmatch1('age', 32)));"
   ]
  },
  {
   "cell_type": "code",
   "execution_count": 66,
   "metadata": {},
   "outputs": [
    {
     "name": "stdout",
     "output_type": "stream",
     "text": [
      "{ id: 3 }\n"
     ]
    }
   ],
   "source": [
    "function object(key, val) {\n",
    "    var obj = {};\n",
    "    obj[key] = val;\n",
    "    return obj;\n",
    "}\n",
    "console.log(object('id', 3))"
   ]
  },
  {
   "cell_type": "code",
   "execution_count": 67,
   "metadata": {},
   "outputs": [
    {
     "name": "stdout",
     "output_type": "stream",
     "text": [
      "BJ\n",
      "undefined\n",
      "true\n"
     ]
    }
   ],
   "source": [
    "function match(obj, obj2) {\n",
    "    for (var key in obj2) {\n",
    "        if (obj[key] !== obj2[key]) return false;\n",
    "    }\n",
    "    return true;\n",
    "}\n",
    "console.log({ id: 3, name: 'BJ', age: 32}['name']) \n",
    "console.log({ id: 3 }['name'])\n",
    "console.log(match({ id: 3, name: 'BJ', age: 32 }, { id: 3 }))"
   ]
  },
  {
   "cell_type": "code",
   "execution_count": 68,
   "metadata": {},
   "outputs": [
    {
     "name": "stdout",
     "output_type": "stream",
     "text": [
      "function(obj){\n",
      "        return match(obj, obj2);\n",
      "    }\n"
     ]
    }
   ],
   "source": [
    "function bmatch(obj2, val) {\n",
    "    if (arguments.length == 2) obj2 = object(obj2, val);\n",
    "    return function(obj){\n",
    "        return match(obj, obj2);\n",
    "    }\n",
    "}\n",
    "console.log(bmatch('id', 3).toString());"
   ]
  },
  {
   "cell_type": "code",
   "execution_count": 69,
   "metadata": {},
   "outputs": [
    {
     "name": "stdout",
     "output_type": "stream",
     "text": [
      "true\n"
     ]
    }
   ],
   "source": [
    "console.log(\n",
    "    match(\n",
    "        find(users, bmatch('id',3)), \n",
    "        find(users, bmatch('name', 'BJ'))\n",
    "    )\n",
    ")"
   ]
  },
  {
   "cell_type": "code",
   "execution_count": 70,
   "metadata": {},
   "outputs": [
    {
     "name": "stdout",
     "output_type": "stream",
     "text": [
      "{ id: 3, name: 'BJ', age: 32 }\n",
      "{ id: 3, name: 'BJ', age: 32 }\n",
      "[Function]\n",
      "function(obj){\n",
      "        return match(obj, obj2);\n",
      "    }\n",
      "0\n",
      "1\n",
      "2\n",
      "3\n",
      "{ name: 'BJ' }\n"
     ]
    }
   ],
   "source": [
    "console.log(find(users, bmatch('id', 3)));\n",
    "console.log(find(users, bmatch('name', 'BJ')));\n",
    "console.log(bmatch('name', 'BJ'));\n",
    "console.log(bmatch('name','BJ').toString());\n",
    "\n",
    "for (var key in 'name') console.log(key);\n",
    "console.log(object('name', 'BJ'));"
   ]
  },
  {
   "cell_type": "code",
   "execution_count": 71,
   "metadata": {},
   "outputs": [
    {
     "name": "stdout",
     "output_type": "stream",
     "text": [
      "{ id: 6, name: 'JM', age: 32 }\n"
     ]
    }
   ],
   "source": [
    "console.log(\n",
    "    find(users, function(u) { return u.age == 32 && u.name == 'JM'})\n",
    ")"
   ]
  },
  {
   "cell_type": "code",
   "execution_count": 72,
   "metadata": {},
   "outputs": [
    {
     "name": "stdout",
     "output_type": "stream",
     "text": [
      "{ id: 6, name: 'JM', age: 32 }\n"
     ]
    }
   ],
   "source": [
    "console.log(\n",
    "    find(users, bmatch({ name: 'JM', age: 32}))\n",
    ")"
   ]
  },
  {
   "cell_type": "code",
   "execution_count": 73,
   "metadata": {},
   "outputs": [],
   "source": [
    "function findIndex(list, predicate) {\n",
    "    for (var i = 0, len = list.length; i < len; i++) {\n",
    "        if(predicate(list[i])) return i;\n",
    "    }\n",
    "    return -1;\n",
    "}"
   ]
  },
  {
   "cell_type": "code",
   "execution_count": 74,
   "metadata": {},
   "outputs": [
    {
     "name": "stdout",
     "output_type": "stream",
     "text": [
      "5\n"
     ]
    }
   ],
   "source": [
    "console.log(findIndex(users, bmatch({ name: 'JM', age: 32})));"
   ]
  },
  {
   "cell_type": "code",
   "execution_count": 75,
   "metadata": {},
   "outputs": [
    {
     "name": "stdout",
     "output_type": "stream",
     "text": [
      "-1\n"
     ]
    }
   ],
   "source": [
    "console.log(findIndex(users, bmatch({ age: 36 })));"
   ]
  },
  {
   "cell_type": "markdown",
   "metadata": {},
   "source": [
    "### 1.3.4"
   ]
  },
  {
   "cell_type": "code",
   "execution_count": 76,
   "metadata": {},
   "outputs": [
    {
     "data": {
      "text/plain": [
       "[Function]"
      ]
     },
     "execution_count": 76,
     "metadata": {},
     "output_type": "execute_result"
    }
   ],
   "source": [
    "var _ = {};\n",
    "_.map = function(list, iteratee) {\n",
    "    var new_list = [];\n",
    "    for (var i = 0, len = list.length; i < len; i++) {\n",
    "        new_list.push(iteratee(list[i], i, list));\n",
    "    }\n",
    "    return new_list;\n",
    "}"
   ]
  },
  {
   "cell_type": "code",
   "execution_count": 77,
   "metadata": {},
   "outputs": [
    {
     "data": {
      "text/plain": [
       "[Function]"
      ]
     },
     "execution_count": 77,
     "metadata": {},
     "output_type": "execute_result"
    }
   ],
   "source": [
    "_.filter = function(list, predicate) {\n",
    "    var new_list = [];\n",
    "    for (var i = 0, len = list.length; i < len; i++ ) {\n",
    "        if (predicate(list[i], i, list)) new_list.push(list[i]);\n",
    "    }\n",
    "    return new_list;\n",
    "}"
   ]
  },
  {
   "cell_type": "code",
   "execution_count": 78,
   "metadata": {},
   "outputs": [
    {
     "data": {
      "text/plain": [
       "[Function]"
      ]
     },
     "execution_count": 78,
     "metadata": {},
     "output_type": "execute_result"
    }
   ],
   "source": [
    "_.find = function(list, predicate) {\n",
    "    for (var i = 0, len = list.length; i < len; i++ ) {\n",
    "        if (predicate(list[i], i, list)) return list[i];\n",
    "    }\n",
    "};"
   ]
  },
  {
   "cell_type": "code",
   "execution_count": 79,
   "metadata": {},
   "outputs": [
    {
     "data": {
      "text/plain": [
       "[Function]"
      ]
     },
     "execution_count": 79,
     "metadata": {},
     "output_type": "execute_result"
    }
   ],
   "source": [
    "_.findIndex = function(list, predicate) {\n",
    "    for (var i = 0, len = list.length; i < len; i++ ) {\n",
    "        if (predicate(list[i], i, list)) return i;\n",
    "    }\n",
    "    return -1;\n",
    "}"
   ]
  },
  {
   "cell_type": "code",
   "execution_count": 80,
   "metadata": {},
   "outputs": [
    {
     "name": "stdout",
     "output_type": "stream",
     "text": [
      "[ 3, 4 ]\n"
     ]
    }
   ],
   "source": [
    "console.log(_.filter([1,2,3,4], function(val, idx) { return idx > 1; }));"
   ]
  },
  {
   "cell_type": "code",
   "execution_count": 81,
   "metadata": {},
   "outputs": [
    {
     "name": "stdout",
     "output_type": "stream",
     "text": [
      "[ 1, 3 ]\n"
     ]
    }
   ],
   "source": [
    "console.log(_.filter([1,2,3,4], function(val, idx) { return idx % 2 == 0;}))"
   ]
  },
  {
   "cell_type": "markdown",
   "metadata": {},
   "source": [
    "### 1.3.5"
   ]
  },
  {
   "cell_type": "code",
   "execution_count": 82,
   "metadata": {},
   "outputs": [
    {
     "name": "stdout",
     "output_type": "stream",
     "text": [
      "10\n"
     ]
    }
   ],
   "source": [
    "_.identity = function(v) { return v; };\n",
    "var a = 10;\n",
    "console.log(_.identity(a));"
   ]
  },
  {
   "cell_type": "code",
   "execution_count": 83,
   "metadata": {},
   "outputs": [
    {
     "name": "stdout",
     "output_type": "stream",
     "text": [
      "[ true, 10, 'a' ]\n"
     ]
    }
   ],
   "source": [
    "console.log(_.filter([true, 0, 10, 'a', false, null], _.identity))"
   ]
  },
  {
   "cell_type": "code",
   "execution_count": 84,
   "metadata": {},
   "outputs": [
    {
     "data": {
      "text/plain": [
       "[Function]"
      ]
     },
     "execution_count": 84,
     "metadata": {},
     "output_type": "execute_result"
    }
   ],
   "source": [
    "_.falsy = function(v) { return !v; };\n",
    "_.truthy = function(v) { return !!v; };"
   ]
  },
  {
   "cell_type": "code",
   "execution_count": 85,
   "metadata": {},
   "outputs": [
    {
     "name": "stdout",
     "output_type": "stream",
     "text": [
      "[ 0, false, null ]\n"
     ]
    }
   ],
   "source": [
    "console.log(_.filter([true, 0, 10, 'a', false, null], _.falsy));"
   ]
  },
  {
   "cell_type": "code",
   "execution_count": 86,
   "metadata": {},
   "outputs": [
    {
     "name": "stdout",
     "output_type": "stream",
     "text": [
      "[ true, 10, 'a' ]\n"
     ]
    }
   ],
   "source": [
    "console.log(_.filter([true, 0, 10, 'a', false, null], _.truthy));"
   ]
  },
  {
   "cell_type": "code",
   "execution_count": 87,
   "metadata": {},
   "outputs": [
    {
     "data": {
      "text/plain": [
       "[Function]"
      ]
     },
     "execution_count": 87,
     "metadata": {},
     "output_type": "execute_result"
    }
   ],
   "source": [
    "_.some = function(list) {\n",
    "    return !!_.find(list, _.identity);\n",
    "};"
   ]
  },
  {
   "cell_type": "code",
   "execution_count": 88,
   "metadata": {},
   "outputs": [
    {
     "data": {
      "text/plain": [
       "[Function]"
      ]
     },
     "execution_count": 88,
     "metadata": {},
     "output_type": "execute_result"
    }
   ],
   "source": [
    "_.every = function(list) {\n",
    "    return _.filter(list, _.identity).length == list.length;\n",
    "}"
   ]
  },
  {
   "cell_type": "code",
   "execution_count": 89,
   "metadata": {},
   "outputs": [
    {
     "name": "stdout",
     "output_type": "stream",
     "text": [
      "true\n"
     ]
    }
   ],
   "source": [
    "console.log(_.some([0, null, 2]));"
   ]
  },
  {
   "cell_type": "code",
   "execution_count": 90,
   "metadata": {},
   "outputs": [
    {
     "name": "stdout",
     "output_type": "stream",
     "text": [
      "false\n"
     ]
    }
   ],
   "source": [
    "console.log(_.some([0, null, false]));"
   ]
  },
  {
   "cell_type": "code",
   "execution_count": 91,
   "metadata": {},
   "outputs": [
    {
     "name": "stdout",
     "output_type": "stream",
     "text": [
      "false\n"
     ]
    }
   ],
   "source": [
    "console.log(_.every([0, null, 2]));"
   ]
  },
  {
   "cell_type": "code",
   "execution_count": 92,
   "metadata": {},
   "outputs": [
    {
     "name": "stdout",
     "output_type": "stream",
     "text": [
      "true\n"
     ]
    }
   ],
   "source": [
    "console.log(_.every([{}, true, 2]));"
   ]
  },
  {
   "cell_type": "markdown",
   "metadata": {},
   "source": [
    "### 1.3.6"
   ]
  },
  {
   "cell_type": "code",
   "execution_count": 93,
   "metadata": {},
   "outputs": [],
   "source": [
    "function not(v) { return !v; }"
   ]
  },
  {
   "cell_type": "code",
   "execution_count": 94,
   "metadata": {},
   "outputs": [],
   "source": [
    "function beq(a) { \n",
    "    return function(b) {\n",
    "        return a === b;\n",
    "    }\n",
    "}"
   ]
  },
  {
   "cell_type": "code",
   "execution_count": 95,
   "metadata": {},
   "outputs": [
    {
     "data": {
      "text/plain": [
       "[Function]"
      ]
     },
     "execution_count": 95,
     "metadata": {},
     "output_type": "execute_result"
    }
   ],
   "source": [
    "_.some = function(list) {\n",
    "    return !!_.find(list, _.identity);\n",
    "};"
   ]
  },
  {
   "cell_type": "code",
   "execution_count": 96,
   "metadata": {},
   "outputs": [
    {
     "data": {
      "text/plain": [
       "[Function]"
      ]
     },
     "execution_count": 96,
     "metadata": {},
     "output_type": "execute_result"
    }
   ],
   "source": [
    "_.every = function(list) {\n",
    "    return beq(-1)(_.findIndex(list, not))\n",
    "};"
   ]
  },
  {
   "cell_type": "code",
   "execution_count": 97,
   "metadata": {},
   "outputs": [
    {
     "name": "stdout",
     "output_type": "stream",
     "text": [
      "true\n"
     ]
    }
   ],
   "source": [
    "console.log(_.some([0, null, 2]));"
   ]
  },
  {
   "cell_type": "code",
   "execution_count": 98,
   "metadata": {},
   "outputs": [
    {
     "name": "stdout",
     "output_type": "stream",
     "text": [
      "false\n"
     ]
    }
   ],
   "source": [
    "console.log(_.some([0, null, false]));"
   ]
  },
  {
   "cell_type": "code",
   "execution_count": 99,
   "metadata": {},
   "outputs": [
    {
     "name": "stdout",
     "output_type": "stream",
     "text": [
      "false\n"
     ]
    }
   ],
   "source": [
    "console.log(_.every([0, null, 2]));"
   ]
  },
  {
   "cell_type": "code",
   "execution_count": 100,
   "metadata": {},
   "outputs": [
    {
     "name": "stdout",
     "output_type": "stream",
     "text": [
      "true\n"
     ]
    }
   ],
   "source": [
    "console.log(_.every([{}, true, 2]));"
   ]
  },
  {
   "cell_type": "code",
   "execution_count": 101,
   "metadata": {},
   "outputs": [
    {
     "data": {
      "text/plain": [
       "1"
      ]
     },
     "execution_count": 101,
     "metadata": {},
     "output_type": "execute_result"
    }
   ],
   "source": [
    "_.findIndex([{}, false], not);"
   ]
  },
  {
   "cell_type": "code",
   "execution_count": 102,
   "metadata": {},
   "outputs": [
    {
     "data": {
      "text/plain": [
       "-1"
      ]
     },
     "execution_count": 102,
     "metadata": {},
     "output_type": "execute_result"
    }
   ],
   "source": [
    "_.findIndex([{}, true], not);"
   ]
  },
  {
   "cell_type": "code",
   "execution_count": 103,
   "metadata": {},
   "outputs": [],
   "source": [
    "function positive(list) {\n",
    "    return _.find(list, _.identity);\n",
    "}"
   ]
  },
  {
   "cell_type": "code",
   "execution_count": 104,
   "metadata": {},
   "outputs": [],
   "source": [
    "function negativeIndex(list) {\n",
    "    return _.findIndex(list, not);\n",
    "}"
   ]
  },
  {
   "cell_type": "code",
   "execution_count": 105,
   "metadata": {},
   "outputs": [
    {
     "data": {
      "text/plain": [
       "[Function]"
      ]
     },
     "execution_count": 105,
     "metadata": {},
     "output_type": "execute_result"
    }
   ],
   "source": [
    "_.some = function(list) {\n",
    "    return not(not(positive(list)));\n",
    "}"
   ]
  },
  {
   "cell_type": "code",
   "execution_count": 106,
   "metadata": {},
   "outputs": [
    {
     "data": {
      "text/plain": [
       "[Function]"
      ]
     },
     "execution_count": 106,
     "metadata": {},
     "output_type": "execute_result"
    }
   ],
   "source": [
    "_.every = function(list) {\n",
    "    return beq(-1)(negativeIndex(list));\n",
    "}"
   ]
  },
  {
   "cell_type": "code",
   "execution_count": 107,
   "metadata": {},
   "outputs": [
    {
     "name": "stdout",
     "output_type": "stream",
     "text": [
      "true\n"
     ]
    }
   ],
   "source": [
    "console.log(_.some([0, null, 2]));"
   ]
  },
  {
   "cell_type": "code",
   "execution_count": 108,
   "metadata": {},
   "outputs": [
    {
     "name": "stdout",
     "output_type": "stream",
     "text": [
      "true\n"
     ]
    }
   ],
   "source": [
    "console.log(_.every([{}, true, 2]));"
   ]
  },
  {
   "cell_type": "markdown",
   "metadata": {},
   "source": [
    "### 1.3.7"
   ]
  },
  {
   "cell_type": "code",
   "execution_count": 109,
   "metadata": {},
   "outputs": [
    {
     "data": {
      "text/plain": [
       "[Function]"
      ]
     },
     "execution_count": 109,
     "metadata": {},
     "output_type": "execute_result"
    }
   ],
   "source": [
    "_.compose = function() {\n",
    "    var args = arguments;\n",
    "    var start = args.length - 1;\n",
    "    return function() {\n",
    "        var i = start;\n",
    "        var result = args[start].apply(this, arguments);\n",
    "        while (i--) result = args[i].call(this, result);\n",
    "        return result;\n",
    "    }\n",
    "}"
   ]
  },
  {
   "cell_type": "code",
   "execution_count": 110,
   "metadata": {},
   "outputs": [],
   "source": [
    "var greet = function(name) {\n",
    "    return \"hi: \" + name;\n",
    "}\n",
    "var exclaim = function(statement) {\n",
    "    return statement.toUpperCase() + \"!\";\n",
    "}\n",
    "var welcome = _.compose(greet, exclaim);\n"
   ]
  },
  {
   "cell_type": "code",
   "execution_count": 111,
   "metadata": {},
   "outputs": [
    {
     "data": {
      "text/plain": [
       "'hi: MOE!'"
      ]
     },
     "execution_count": 111,
     "metadata": {},
     "output_type": "execute_result"
    }
   ],
   "source": [
    "welcome(\"moe\")"
   ]
  },
  {
   "cell_type": "code",
   "execution_count": 112,
   "metadata": {},
   "outputs": [],
   "source": [
    "var str = \"Hello World!\";\n",
    "var res = str.toUpperCase();"
   ]
  },
  {
   "cell_type": "code",
   "execution_count": 113,
   "metadata": {},
   "outputs": [
    {
     "data": {
      "text/plain": [
       "[Function]"
      ]
     },
     "execution_count": 113,
     "metadata": {},
     "output_type": "execute_result"
    }
   ],
   "source": [
    "_.some = _.compose(not, not, positive);\n",
    "_.every = _.compose(beq(-1), negativeIndex);"
   ]
  },
  {
   "cell_type": "markdown",
   "metadata": {},
   "source": [
    "## 1.4"
   ]
  },
  {
   "cell_type": "markdown",
   "metadata": {},
   "source": [
    "### 1.4.1"
   ]
  },
  {
   "cell_type": "code",
   "execution_count": 114,
   "metadata": {},
   "outputs": [],
   "source": [
    "function f1() {}\n",
    "var a = typeof f1 == 'function' ? f1 : function() {};"
   ]
  },
  {
   "cell_type": "code",
   "execution_count": 115,
   "metadata": {},
   "outputs": [],
   "source": [
    "function f2() {\n",
    "    return function() {};\n",
    "}"
   ]
  },
  {
   "cell_type": "code",
   "execution_count": 116,
   "metadata": {},
   "outputs": [
    {
     "data": {
      "text/plain": [
       "15"
      ]
     },
     "execution_count": 116,
     "metadata": {},
     "output_type": "execute_result"
    }
   ],
   "source": [
    "(function(a,b) { return a + b; }) (10, 5);"
   ]
  },
  {
   "cell_type": "code",
   "execution_count": 117,
   "metadata": {},
   "outputs": [],
   "source": [
    "function callAndAdd(a, b) {\n",
    "    return a() + b();\n",
    "}"
   ]
  },
  {
   "cell_type": "code",
   "execution_count": 118,
   "metadata": {},
   "outputs": [
    {
     "data": {
      "text/plain": [
       "15"
      ]
     },
     "execution_count": 118,
     "metadata": {},
     "output_type": "execute_result"
    }
   ],
   "source": [
    "callAndAdd(function() { return 10; }, function() { return 5; });"
   ]
  },
  {
   "cell_type": "markdown",
   "metadata": {},
   "source": [
    "### 1.4.2"
   ]
  },
  {
   "cell_type": "code",
   "execution_count": 119,
   "metadata": {},
   "outputs": [],
   "source": [
    "function parent() {\n",
    "    var a = 5;\n",
    "    function myfn() {\n",
    "        console.log(a);\n",
    "    }\n",
    "}"
   ]
  },
  {
   "cell_type": "code",
   "execution_count": 120,
   "metadata": {},
   "outputs": [],
   "source": [
    "function parent2() {\n",
    "    var a = 5;\n",
    "    function paret1() {\n",
    "        function myfn() {\n",
    "            consolelog(a);        \n",
    "        }\n",
    "    }\n",
    "}"
   ]
  },
  {
   "cell_type": "code",
   "execution_count": 121,
   "metadata": {},
   "outputs": [
    {
     "data": {
      "text/plain": [
       "30"
      ]
     },
     "execution_count": 121,
     "metadata": {},
     "output_type": "execute_result"
    }
   ],
   "source": [
    "var a = 10;\n",
    "var b = 20;\n",
    "function f1() {\n",
    "    return a + b;\n",
    "}\n",
    "f1();"
   ]
  },
  {
   "cell_type": "code",
   "execution_count": 122,
   "metadata": {},
   "outputs": [
    {
     "data": {
      "text/plain": [
       "12"
      ]
     },
     "execution_count": 122,
     "metadata": {},
     "output_type": "execute_result"
    }
   ],
   "source": [
    "function f2() {\n",
    "    var a = 10;\n",
    "    var b = 20;\n",
    "    function f3(c, d) {\n",
    "        return c + d;\n",
    "    }\n",
    "    return f3;\n",
    "}\n",
    "var f4 = f2();\n",
    "f4(5, 7);"
   ]
  },
  {
   "cell_type": "code",
   "execution_count": 123,
   "metadata": {},
   "outputs": [
    {
     "data": {
      "text/plain": [
       "30"
      ]
     },
     "execution_count": 123,
     "metadata": {},
     "output_type": "execute_result"
    }
   ],
   "source": [
    "function f4() {\n",
    "    var a = 10;\n",
    "    var b = 20;\n",
    "    function f5() {\n",
    "        return a + b;\n",
    "    }\n",
    "    return f5();\n",
    "}\n",
    "f4();"
   ]
  },
  {
   "cell_type": "code",
   "execution_count": 124,
   "metadata": {},
   "outputs": [],
   "source": [
    "function f6() {\n",
    "    var a = 10;\n",
    "    function f7(b) {\n",
    "        return a + b;\n",
    "    }\n",
    "    return f7;\n",
    "}\n",
    "var f8 = f6();"
   ]
  },
  {
   "cell_type": "code",
   "execution_count": 125,
   "metadata": {},
   "outputs": [
    {
     "data": {
      "text/plain": [
       "30"
      ]
     },
     "execution_count": 125,
     "metadata": {},
     "output_type": "execute_result"
    }
   ],
   "source": [
    "f8(20);"
   ]
  },
  {
   "cell_type": "code",
   "execution_count": 126,
   "metadata": {},
   "outputs": [
    {
     "data": {
      "text/plain": [
       "20"
      ]
     },
     "execution_count": 126,
     "metadata": {},
     "output_type": "execute_result"
    }
   ],
   "source": [
    "f8(10);"
   ]
  },
  {
   "cell_type": "code",
   "execution_count": 127,
   "metadata": {},
   "outputs": [
    {
     "data": {
      "text/plain": [
       "60"
      ]
     },
     "execution_count": 127,
     "metadata": {},
     "output_type": "execute_result"
    }
   ],
   "source": [
    "function f9() {\n",
    "    var a = 10;\n",
    "    var f10 = function(c) {\n",
    "        return a + b + c;\n",
    "    };\n",
    "    var b = 20;\n",
    "    return f10;\n",
    "}\n",
    "var f11 = f9();\n",
    "f11(30);"
   ]
  },
  {
   "cell_type": "markdown",
   "metadata": {},
   "source": [
    "var button = [];\n",
    "for (var i = 0; i < users.length; i++) {\n",
    "    var user = users[i];\n",
    "    buttons.push(\n",
    "        $('<button>')\n",
    "            .text(user.name)\n",
    "            .click(function() {\n",
    "                function() {\n",
    "                    console.log(user.name);\n",
    "                }\n",
    "            })\n",
    "    )\n",
    "}"
   ]
  },
  {
   "cell_type": "markdown",
   "metadata": {},
   "source": [
    "$('.user-list').append(buttons);"
   ]
  },
  {
   "cell_type": "markdown",
   "metadata": {},
   "source": [
    "var buttons = [];\n",
    "for (var i = 0; i < users.length; i++) {\n",
    "    (function(user) {\n",
    "        buttons.push(\n",
    "            $('<button>')\n",
    "                .text(user.name)\n",
    "                .click(function() {\n",
    "                    console.log(user.name);\n",
    "                })\n",
    "        )\n",
    "}"
   ]
  },
  {
   "cell_type": "markdown",
   "metadata": {},
   "source": [
    "$('.user-list').append(butons);"
   ]
  },
  {
   "cell_type": "markdown",
   "metadata": {},
   "source": [
    "$('.user-list').append(\n",
    "    _.map(\n",
    "        users,\n",
    "        function(user) {\n",
    "            return $('<button>')\n",
    "                .text(user.name)\n",
    "                .click(function() {\n",
    "                    console.log(user.name);\n",
    "                });\n",
    "        }\n",
    "    )\n",
    ");"
   ]
  },
  {
   "cell_type": "markdown",
   "metadata": {},
   "source": [
    "### 1.4.5"
   ]
  },
  {
   "cell_type": "code",
   "execution_count": 128,
   "metadata": {},
   "outputs": [],
   "source": [
    "function callWith10(val, func) {\n",
    "    return func(10, val);\n",
    "}\n",
    "function add(a,b){\n",
    "    return a + b;\n",
    "}\n",
    "function sub(a,b){\n",
    "    return a - b;\n",
    "}"
   ]
  },
  {
   "cell_type": "code",
   "execution_count": 129,
   "metadata": {},
   "outputs": [
    {
     "data": {
      "text/plain": [
       "30"
      ]
     },
     "execution_count": 129,
     "metadata": {},
     "output_type": "execute_result"
    }
   ],
   "source": [
    "callWith10(20,add);"
   ]
  },
  {
   "cell_type": "code",
   "execution_count": 130,
   "metadata": {},
   "outputs": [
    {
     "data": {
      "text/plain": [
       "5"
      ]
     },
     "execution_count": 130,
     "metadata": {},
     "output_type": "execute_result"
    }
   ],
   "source": [
    "callWith10(5,sub);"
   ]
  },
  {
   "cell_type": "code",
   "execution_count": 131,
   "metadata": {},
   "outputs": [],
   "source": [
    "function constant(val) {\n",
    "    return function() {\n",
    "        return val;\n",
    "    }\n",
    "}"
   ]
  },
  {
   "cell_type": "code",
   "execution_count": 132,
   "metadata": {},
   "outputs": [],
   "source": [
    "var always10 = constant(10);"
   ]
  },
  {
   "cell_type": "code",
   "execution_count": 133,
   "metadata": {},
   "outputs": [
    {
     "data": {
      "text/plain": [
       "10"
      ]
     },
     "execution_count": 133,
     "metadata": {},
     "output_type": "execute_result"
    }
   ],
   "source": [
    "always10();"
   ]
  },
  {
   "cell_type": "code",
   "execution_count": 134,
   "metadata": {},
   "outputs": [
    {
     "data": {
      "text/plain": [
       "10"
      ]
     },
     "execution_count": 134,
     "metadata": {},
     "output_type": "execute_result"
    }
   ],
   "source": [
    "always10();"
   ]
  },
  {
   "cell_type": "code",
   "execution_count": 135,
   "metadata": {},
   "outputs": [],
   "source": [
    "function callWith(val1) {\n",
    "    return function(val2, func){\n",
    "        return func(val1, val2)\n",
    "    }\n",
    "}"
   ]
  },
  {
   "cell_type": "code",
   "execution_count": 136,
   "metadata": {},
   "outputs": [
    {
     "data": {
      "text/plain": [
       "30"
      ]
     },
     "execution_count": 136,
     "metadata": {},
     "output_type": "execute_result"
    }
   ],
   "source": [
    "var callWith10 = callWith(10);\n",
    "callWith10(20, add);"
   ]
  },
  {
   "cell_type": "code",
   "execution_count": 137,
   "metadata": {},
   "outputs": [
    {
     "data": {
      "text/plain": [
       "0"
      ]
     },
     "execution_count": 137,
     "metadata": {},
     "output_type": "execute_result"
    }
   ],
   "source": [
    "var callWith5 = callWith(5);\n",
    "callWith5(5, sub);"
   ]
  },
  {
   "cell_type": "code",
   "execution_count": 138,
   "metadata": {},
   "outputs": [
    {
     "data": {
      "text/plain": [
       "50"
      ]
     },
     "execution_count": 138,
     "metadata": {},
     "output_type": "execute_result"
    }
   ],
   "source": [
    "callWith(30)(20, add);"
   ]
  },
  {
   "cell_type": "code",
   "execution_count": 139,
   "metadata": {},
   "outputs": [
    {
     "data": {
      "text/plain": [
       "0"
      ]
     },
     "execution_count": 139,
     "metadata": {},
     "output_type": "execute_result"
    }
   ],
   "source": [
    "callWith(20)(20,sub);"
   ]
  },
  {
   "cell_type": "code",
   "execution_count": 140,
   "metadata": {},
   "outputs": [
    {
     "data": {
      "text/plain": [
       "[ 10, 20, 30 ]"
      ]
     },
     "execution_count": 140,
     "metadata": {},
     "output_type": "execute_result"
    }
   ],
   "source": [
    "callWith([1,2,3])(function(v) {return v * 10; }, _.map);"
   ]
  },
  {
   "cell_type": "code",
   "execution_count": 141,
   "metadata": {},
   "outputs": [
    {
     "data": {
      "text/plain": [
       "[Function]"
      ]
     },
     "execution_count": 141,
     "metadata": {},
     "output_type": "execute_result"
    }
   ],
   "source": [
    "_.get = function(list, idx) {\n",
    "    return list[idx];\n",
    "};"
   ]
  },
  {
   "cell_type": "code",
   "execution_count": 142,
   "metadata": {},
   "outputs": [],
   "source": [
    "var callWithUsers = callWith([\n",
    "    { id: 2, name: \"HA\", age: 25 },\n",
    "    { id: 4, name: \"HA\", age: 28 },\n",
    "    { id: 5, name: \"HA\", age: 27 }\n",
    "])"
   ]
  },
  {
   "cell_type": "code",
   "execution_count": 143,
   "metadata": {},
   "outputs": [
    {
     "data": {
      "text/plain": [
       "{ id: 5, name: 'HA', age: 27 }"
      ]
     },
     "execution_count": 143,
     "metadata": {},
     "output_type": "execute_result"
    }
   ],
   "source": [
    "callWithUsers(2, _.get);"
   ]
  },
  {
   "cell_type": "code",
   "execution_count": 144,
   "metadata": {},
   "outputs": [
    {
     "data": {
      "text/plain": [
       "{ id: 4, name: 'HA', age: 28 }"
      ]
     },
     "execution_count": 144,
     "metadata": {},
     "output_type": "execute_result"
    }
   ],
   "source": [
    "callWithUsers(\n",
    "    function(user) { return user.age > 25; }, \n",
    "    _.find\n",
    ")"
   ]
  },
  {
   "cell_type": "code",
   "execution_count": 145,
   "metadata": {},
   "outputs": [
    {
     "data": {
      "text/plain": [
       "[ { id: 4, name: 'HA', age: 28 },\n",
       "  { id: 5, name: 'HA', age: 27 } ]"
      ]
     },
     "execution_count": 145,
     "metadata": {},
     "output_type": "execute_result"
    }
   ],
   "source": [
    "callWithUsers(\n",
    "    function(user) { return user.age > 25; },\n",
    "    _.filter\n",
    ")"
   ]
  },
  {
   "cell_type": "code",
   "execution_count": 146,
   "metadata": {},
   "outputs": [
    {
     "data": {
      "text/plain": [
       "true"
      ]
     },
     "execution_count": 146,
     "metadata": {},
     "output_type": "execute_result"
    }
   ],
   "source": [
    "callWithUsers(\n",
    "    function(user) { return user.age > 25; },\n",
    "    _.some\n",
    ")"
   ]
  },
  {
   "cell_type": "code",
   "execution_count": 147,
   "metadata": {},
   "outputs": [
    {
     "data": {
      "text/plain": [
       "true"
      ]
     },
     "execution_count": 147,
     "metadata": {},
     "output_type": "execute_result"
    }
   ],
   "source": [
    "callWithUsers(\n",
    "    function(user) { return user.age > 25; },\n",
    "    _.every\n",
    ")"
   ]
  },
  {
   "cell_type": "markdown",
   "metadata": {},
   "source": [
    "### 1.4.7"
   ]
  },
  {
   "cell_type": "code",
   "execution_count": 148,
   "metadata": {},
   "outputs": [
    {
     "data": {
      "text/plain": [
       "[Function]"
      ]
     },
     "execution_count": 148,
     "metadata": {},
     "output_type": "execute_result"
    }
   ],
   "source": [
    "Function.prototype.partial = function() {\n",
    "    var fn = this, agrs = Array.prototype.slice.call(arguments);\n",
    "    return function() {\n",
    "        var arg = 0;\n",
    "        for (var i = 0; i < args.length && arg < arguments.length; i++)\n",
    "            if (args[i] === undefined) args[i] = arguments[arr++];\n",
    "        return fn.apply(this, args);\n",
    "    };\n",
    "};"
   ]
  },
  {
   "cell_type": "code",
   "execution_count": 149,
   "metadata": {},
   "outputs": [],
   "source": [
    "function abc(a, b, c) {\n",
    "    console.log(a, b, c);\n",
    "}"
   ]
  },
  {
   "cell_type": "code",
   "execution_count": null,
   "metadata": {},
   "outputs": [],
   "source": []
  }
 ],
 "metadata": {
  "kernelspec": {
   "display_name": "Javascript (Node.js)",
   "language": "javascript",
   "name": "javascript"
  },
  "language_info": {
   "file_extension": ".js",
   "mimetype": "application/javascript",
   "name": "javascript",
   "version": "10.15.0"
  }
 },
 "nbformat": 4,
 "nbformat_minor": 2
}
