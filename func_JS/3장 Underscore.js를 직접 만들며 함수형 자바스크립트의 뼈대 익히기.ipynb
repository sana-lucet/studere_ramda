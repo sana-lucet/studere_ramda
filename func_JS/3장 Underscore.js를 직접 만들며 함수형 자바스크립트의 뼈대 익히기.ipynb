{
 "cells": [
  {
   "cell_type": "markdown",
   "metadata": {},
   "source": [
    "### 3.1.1"
   ]
  },
  {
   "cell_type": "code",
   "execution_count": 1,
   "metadata": {},
   "outputs": [],
   "source": [
    "var _ = require('underscore');"
   ]
  },
  {
   "cell_type": "code",
   "execution_count": 2,
   "metadata": {},
   "outputs": [
    {
     "name": "stdout",
     "output_type": "stream",
     "text": [
      "1 0 [ 1, 2, 3 ]\n",
      "2 1 [ 1, 2, 3 ]\n",
      "3 2 [ 1, 2, 3 ]\n"
     ]
    },
    {
     "data": {
      "text/plain": [
       "[ 1, 2, 3 ]"
      ]
     },
     "execution_count": 2,
     "metadata": {},
     "output_type": "execute_result"
    }
   ],
   "source": [
    "_.each([1,2,3], function(val, idx, list) { console.log(val, idx, list) });"
   ]
  },
  {
   "cell_type": "code",
   "execution_count": 3,
   "metadata": {},
   "outputs": [
    {
     "name": "stdout",
     "output_type": "stream",
     "text": [
      "1 0 [ 1, 2, 3 ]\n",
      "2 1 [ 1, 2, 3 ]\n",
      "3 2 [ 1, 2, 3 ]\n"
     ]
    }
   ],
   "source": [
    "[1,2,3].forEach(function(val, idx, list) { console.log(val, idx, list) });"
   ]
  },
  {
   "cell_type": "code",
   "execution_count": 4,
   "metadata": {},
   "outputs": [
    {
     "name": "stdout",
     "output_type": "stream",
     "text": [
      "1 'a' { a: 1, b: 2 }\n",
      "2 'b' { a: 1, b: 2 }\n"
     ]
    },
    {
     "data": {
      "text/plain": [
       "{ a: 1, b: 2 }"
      ]
     },
     "execution_count": 4,
     "metadata": {},
     "output_type": "execute_result"
    }
   ],
   "source": [
    "_.each({ a: 1, b: 2 }, function(val, key, obj) { console.log(val, key, obj) });"
   ]
  },
  {
   "cell_type": "code",
   "execution_count": 5,
   "metadata": {},
   "outputs": [
    {
     "data": {
      "text/plain": [
       "[ 1, 3, 5 ]"
      ]
     },
     "execution_count": 5,
     "metadata": {},
     "output_type": "execute_result"
    }
   ],
   "source": [
    "var list = [1, 2, 3, 4, 5, 6];\n",
    "_.reject(list, function(num) { return num % 2 == 0; });"
   ]
  },
  {
   "cell_type": "code",
   "execution_count": 6,
   "metadata": {},
   "outputs": [
    {
     "name": "stdout",
     "output_type": "stream",
     "text": [
      "[ 1, 2, 3, 4, 5, 6 ]\n"
     ]
    }
   ],
   "source": [
    "console.log(list);"
   ]
  },
  {
   "cell_type": "code",
   "execution_count": 7,
   "metadata": {},
   "outputs": [
    {
     "data": {
      "text/plain": [
       "true"
      ]
     },
     "execution_count": 7,
     "metadata": {},
     "output_type": "execute_result"
    }
   ],
   "source": [
    "_.contains([1,2,3], 3);"
   ]
  },
  {
   "cell_type": "code",
   "execution_count": 8,
   "metadata": {},
   "outputs": [
    {
     "data": {
      "text/plain": [
       "true"
      ]
     },
     "execution_count": 8,
     "metadata": {},
     "output_type": "execute_result"
    }
   ],
   "source": [
    "_.isArray([1,2,3]);"
   ]
  },
  {
   "cell_type": "code",
   "execution_count": 9,
   "metadata": {},
   "outputs": [],
   "source": [
    "var users = [\n",
    "    { id: 1, name: \"ID\", age: 32 },\n",
    "    { id: 2, name: \"HA\", age: 25 },\n",
    "    { id: 3, name: \"BJ\", age: 32 },\n",
    "    { id: 4, name: \"PJ\", age: 28 },\n",
    "    { id: 5, name: \"JE\", age: 27 },\n",
    "    { id: 6, name: \"JM\", age: 32 },\n",
    "    { id: 7, name: \"HI\", age: 24 }    \n",
    "];"
   ]
  },
  {
   "cell_type": "code",
   "execution_count": 10,
   "metadata": {},
   "outputs": [
    {
     "data": {
      "text/plain": [
       "[ 'ID', 'HA', 'BJ', 'PJ', 'JE', 'JM', 'HI' ]"
      ]
     },
     "execution_count": 10,
     "metadata": {},
     "output_type": "execute_result"
    }
   ],
   "source": [
    "_.pluck(users, 'name');"
   ]
  },
  {
   "cell_type": "code",
   "execution_count": 11,
   "metadata": {},
   "outputs": [
    {
     "data": {
      "text/plain": [
       "5"
      ]
     },
     "execution_count": 11,
     "metadata": {},
     "output_type": "execute_result"
    }
   ],
   "source": [
    "_.first([5,4,3,2,1]);"
   ]
  },
  {
   "cell_type": "code",
   "execution_count": 12,
   "metadata": {},
   "outputs": [
    {
     "data": {
      "text/plain": [
       "[ 5 ]"
      ]
     },
     "execution_count": 12,
     "metadata": {},
     "output_type": "execute_result"
    }
   ],
   "source": [
    "_.first([5,4,3,2,1], 1);"
   ]
  },
  {
   "cell_type": "code",
   "execution_count": 13,
   "metadata": {},
   "outputs": [
    {
     "data": {
      "text/plain": [
       "[ 5, 4 ]"
      ]
     },
     "execution_count": 13,
     "metadata": {},
     "output_type": "execute_result"
    }
   ],
   "source": [
    "_.first([5,4,3,2,1], 2);"
   ]
  },
  {
   "cell_type": "code",
   "execution_count": 14,
   "metadata": {},
   "outputs": [
    {
     "data": {
      "text/plain": [
       "1"
      ]
     },
     "execution_count": 14,
     "metadata": {},
     "output_type": "execute_result"
    }
   ],
   "source": [
    "_.last([5,4,3,2,1]);"
   ]
  },
  {
   "cell_type": "code",
   "execution_count": 15,
   "metadata": {},
   "outputs": [
    {
     "data": {
      "text/plain": [
       "[ 1 ]"
      ]
     },
     "execution_count": 15,
     "metadata": {},
     "output_type": "execute_result"
    }
   ],
   "source": [
    "_.last([5,4,3,2,1], 1);"
   ]
  },
  {
   "cell_type": "code",
   "execution_count": 16,
   "metadata": {},
   "outputs": [
    {
     "data": {
      "text/plain": [
       "[ 2, 1 ]"
      ]
     },
     "execution_count": 16,
     "metadata": {},
     "output_type": "execute_result"
    }
   ],
   "source": [
    "_.last([5,4,3,2,1], 2);"
   ]
  },
  {
   "cell_type": "code",
   "execution_count": 17,
   "metadata": {},
   "outputs": [
    {
     "data": {
      "text/plain": [
       "[ 4, 3, 2, 1 ]"
      ]
     },
     "execution_count": 17,
     "metadata": {},
     "output_type": "execute_result"
    }
   ],
   "source": [
    "_.rest([5,4,3,2,1])"
   ]
  },
  {
   "cell_type": "code",
   "execution_count": 18,
   "metadata": {},
   "outputs": [
    {
     "data": {
      "text/plain": [
       "[ 5, 4, 3, 2, 1 ]"
      ]
     },
     "execution_count": 18,
     "metadata": {},
     "output_type": "execute_result"
    }
   ],
   "source": [
    "_.rest([5,4,3,2,1], 0);"
   ]
  },
  {
   "cell_type": "code",
   "execution_count": 19,
   "metadata": {},
   "outputs": [
    {
     "data": {
      "text/plain": [
       "[ 3, 2, 1 ]"
      ]
     },
     "execution_count": 19,
     "metadata": {},
     "output_type": "execute_result"
    }
   ],
   "source": [
    "_.rest([5,4,3,2,1], 2);"
   ]
  },
  {
   "cell_type": "code",
   "execution_count": 20,
   "metadata": {},
   "outputs": [
    {
     "data": {
      "text/plain": [
       "[ 5, 4, 3, 2 ]"
      ]
     },
     "execution_count": 20,
     "metadata": {},
     "output_type": "execute_result"
    }
   ],
   "source": [
    "_.initial([5,4,3,2,1]);"
   ]
  },
  {
   "cell_type": "code",
   "execution_count": 21,
   "metadata": {},
   "outputs": [
    {
     "data": {
      "text/plain": [
       "[ 5, 4, 3, 2 ]"
      ]
     },
     "execution_count": 21,
     "metadata": {},
     "output_type": "execute_result"
    }
   ],
   "source": [
    "_.initial([5,4,3,2,1]);"
   ]
  },
  {
   "cell_type": "code",
   "execution_count": 22,
   "metadata": {},
   "outputs": [
    {
     "data": {
      "text/plain": [
       "[ 5, 4, 3 ]"
      ]
     },
     "execution_count": 22,
     "metadata": {},
     "output_type": "execute_result"
    }
   ],
   "source": [
    "_.initial([5,4,3,2,1], 2);"
   ]
  },
  {
   "cell_type": "code",
   "execution_count": 23,
   "metadata": {},
   "outputs": [
    {
     "data": {
      "text/plain": [
       "[ 5, 4, 3, 2, 1 ]"
      ]
     },
     "execution_count": 23,
     "metadata": {},
     "output_type": "execute_result"
    }
   ],
   "source": [
    "_.initial([5,4,3,2,1], 0);"
   ]
  },
  {
   "cell_type": "code",
   "execution_count": 24,
   "metadata": {},
   "outputs": [
    {
     "data": {
      "text/plain": [
       "4"
      ]
     },
     "execution_count": 24,
     "metadata": {},
     "output_type": "execute_result"
    }
   ],
   "source": [
    "_.lastIndexOf([1, 2, 3, 1, 2, 3], 2);"
   ]
  },
  {
   "cell_type": "code",
   "execution_count": 25,
   "metadata": {},
   "outputs": [
    {
     "data": {
      "text/plain": [
       "5"
      ]
     },
     "execution_count": 25,
     "metadata": {},
     "output_type": "execute_result"
    }
   ],
   "source": [
    "_.lastIndexOf([1, 2, 3, 1, 2, 3], 3);"
   ]
  },
  {
   "cell_type": "code",
   "execution_count": 26,
   "metadata": {},
   "outputs": [
    {
     "data": {
      "text/plain": [
       "1"
      ]
     },
     "execution_count": 26,
     "metadata": {},
     "output_type": "execute_result"
    }
   ],
   "source": [
    "_.lastIndexOf([1, 2, 3, 1, 3], 2);"
   ]
  },
  {
   "cell_type": "code",
   "execution_count": 27,
   "metadata": {},
   "outputs": [
    {
     "data": {
      "text/plain": [
       "[ 1, 2, 3, 4, 5, 6 ]"
      ]
     },
     "execution_count": 27,
     "metadata": {},
     "output_type": "execute_result"
    }
   ],
   "source": [
    "_.flatten([[1, [2], 3], [4, 5], 6]);"
   ]
  },
  {
   "cell_type": "code",
   "execution_count": 28,
   "metadata": {},
   "outputs": [
    {
     "data": {
      "text/plain": [
       "[ 1, 'ID', 32 ]"
      ]
     },
     "execution_count": 28,
     "metadata": {},
     "output_type": "execute_result"
    }
   ],
   "source": [
    "_.values( { id: 1, name: \"ID\", age: 32 })"
   ]
  },
  {
   "cell_type": "code",
   "execution_count": 29,
   "metadata": {},
   "outputs": [
    {
     "data": {
      "text/plain": [
       "[ 'id', 'name', 'age' ]"
      ]
     },
     "execution_count": 29,
     "metadata": {},
     "output_type": "execute_result"
    }
   ],
   "source": [
    "_.keys( { id: 1, name: \"ID\", age: 32 })"
   ]
  },
  {
   "cell_type": "code",
   "execution_count": 30,
   "metadata": {},
   "outputs": [
    {
     "data": {
      "text/plain": [
       "{ id: 1, name: 'ID', age: 36, job: 'Developer' }"
      ]
     },
     "execution_count": 30,
     "metadata": {},
     "output_type": "execute_result"
    }
   ],
   "source": [
    "_.extend( { id: 1, name: \"ID\", age: 32 }, { age: 36, job: \"Developer\" })"
   ]
  },
  {
   "cell_type": "code",
   "execution_count": 31,
   "metadata": {},
   "outputs": [
    {
     "data": {
      "text/plain": [
       "{ name: 'ID', age: 32 }"
      ]
     },
     "execution_count": 31,
     "metadata": {},
     "output_type": "execute_result"
    }
   ],
   "source": [
    "_.pick( { id: 1, name: \"ID\", age: 32 }, 'name', 'age' );"
   ]
  },
  {
   "cell_type": "code",
   "execution_count": 32,
   "metadata": {},
   "outputs": [
    {
     "data": {
      "text/plain": [
       "{ id: 1 }"
      ]
     },
     "execution_count": 32,
     "metadata": {},
     "output_type": "execute_result"
    }
   ],
   "source": [
    "_.omit( { id: 1, name: \"ID\", age: 32 }, 'name', 'age' );"
   ]
  },
  {
   "cell_type": "code",
   "execution_count": 33,
   "metadata": {},
   "outputs": [],
   "source": [
    "var eq5 = function(a) { return a == 5; };"
   ]
  },
  {
   "cell_type": "code",
   "execution_count": 34,
   "metadata": {},
   "outputs": [
    {
     "data": {
      "text/plain": [
       "true"
      ]
     },
     "execution_count": 34,
     "metadata": {},
     "output_type": "execute_result"
    }
   ],
   "source": [
    "eq5(5);"
   ]
  },
  {
   "cell_type": "code",
   "execution_count": 35,
   "metadata": {},
   "outputs": [],
   "source": [
    "var neq5 = _.negate(eq5);"
   ]
  },
  {
   "cell_type": "code",
   "execution_count": 36,
   "metadata": {},
   "outputs": [
    {
     "data": {
      "text/plain": [
       "false"
      ]
     },
     "execution_count": 36,
     "metadata": {},
     "output_type": "execute_result"
    }
   ],
   "source": [
    "neq5(5);"
   ]
  },
  {
   "cell_type": "code",
   "execution_count": 37,
   "metadata": {},
   "outputs": [
    {
     "data": {
      "text/plain": [
       "[Function]"
      ]
     },
     "execution_count": 37,
     "metadata": {},
     "output_type": "execute_result"
    }
   ],
   "source": [
    "_.negate = function(func) {\n",
    "    return function() {\n",
    "        return !func.apply(this, arguments);\n",
    "    }\n",
    "}"
   ]
  },
  {
   "cell_type": "code",
   "execution_count": 38,
   "metadata": {},
   "outputs": [],
   "source": [
    "_.noop();"
   ]
  },
  {
   "cell_type": "code",
   "execution_count": 39,
   "metadata": {},
   "outputs": [],
   "source": [
    "_.noop(10);"
   ]
  },
  {
   "cell_type": "code",
   "execution_count": 40,
   "metadata": {},
   "outputs": [],
   "source": [
    "_.noop({});"
   ]
  },
  {
   "cell_type": "code",
   "execution_count": 41,
   "metadata": {},
   "outputs": [
    {
     "data": {
      "text/plain": [
       "[Function]"
      ]
     },
     "execution_count": 41,
     "metadata": {},
     "output_type": "execute_result"
    }
   ],
   "source": [
    "_.noop = function() {}"
   ]
  },
  {
   "cell_type": "code",
   "execution_count": 42,
   "metadata": {},
   "outputs": [
    {
     "data": {
      "text/plain": [
       "[ 2, 4 ]"
      ]
     },
     "execution_count": 42,
     "metadata": {},
     "output_type": "execute_result"
    }
   ],
   "source": [
    "_.filter(\n",
    "    _.map([1, 2, 3], function(n) { return n * 2;}),\n",
    "    function(n) { return n <= 4; });"
   ]
  },
  {
   "cell_type": "code",
   "execution_count": 43,
   "metadata": {},
   "outputs": [
    {
     "data": {
      "text/plain": [
       "[ 2, 4 ]"
      ]
     },
     "execution_count": 43,
     "metadata": {},
     "output_type": "execute_result"
    }
   ],
   "source": [
    "_.chain([1,2,3])\n",
    "    .map(function(n) { return n * 2; })\n",
    "    .filter(function(n) { return n <= 4; })\n",
    "    .value();"
   ]
  },
  {
   "cell_type": "markdown",
   "metadata": {},
   "source": [
    "###  3.1.2"
   ]
  },
  {
   "cell_type": "code",
   "execution_count": 44,
   "metadata": {},
   "outputs": [],
   "source": [
    "var list = _.range(50);"
   ]
  },
  {
   "cell_type": "code",
   "execution_count": 45,
   "metadata": {},
   "outputs": [],
   "source": [
    "var _i = 0;"
   ]
  },
  {
   "cell_type": "code",
   "execution_count": 46,
   "metadata": {},
   "outputs": [],
   "source": [
    "var result1 = \n",
    "    _.chain(list)\n",
    "        .filter(function(num) {\n",
    "            _i++;\n",
    "            return num % 2 == 0;\n",
    "        })\n",
    "        .take(5)\n",
    "        .value();"
   ]
  },
  {
   "cell_type": "code",
   "execution_count": 47,
   "metadata": {},
   "outputs": [
    {
     "name": "stdout",
     "output_type": "stream",
     "text": [
      "[ 0, 2, 4, 6, 8 ] 50\n"
     ]
    }
   ],
   "source": [
    "console.log(result1, _i);"
   ]
  },
  {
   "cell_type": "code",
   "execution_count": 48,
   "metadata": {},
   "outputs": [],
   "source": [
    "var result1 = \n",
    "    _.chain(list)\n",
    "        .filter(function(num) {\n",
    "            _i++;\n",
    "            return num % 2 == 0;\n",
    "        })"
   ]
  },
  {
   "cell_type": "code",
   "execution_count": 49,
   "metadata": {},
   "outputs": [
    {
     "name": "stdout",
     "output_type": "stream",
     "text": [
      "9\n"
     ]
    }
   ],
   "source": [
    "var lodash = require('lodash');\n",
    "\n",
    "var lodash_i = 0;\n",
    "var result2 = \n",
    "    lodash.chain(list)\n",
    "        .filter(function(num) {\n",
    "            lodash_i++;\n",
    "            return num % 2 == 0;\n",
    "        })\n",
    "        .take(5)\n",
    "        .value();\n",
    "console.log(lodash_i);"
   ]
  },
  {
   "cell_type": "code",
   "execution_count": 50,
   "metadata": {},
   "outputs": [
    {
     "name": "stdout",
     "output_type": "stream",
     "text": [
      "[ 0, 2, 4, 6, 8 ] 9\n"
     ]
    }
   ],
   "source": [
    "console.log(result2, lodash_i);"
   ]
  },
  {
   "cell_type": "code",
   "execution_count": 51,
   "metadata": {},
   "outputs": [
    {
     "data": {
      "text/plain": [
       "[Function]"
      ]
     },
     "execution_count": 51,
     "metadata": {},
     "output_type": "execute_result"
    }
   ],
   "source": [
    "_.filter2 = function(data, predicate, limit) {\n",
    "    var list2 = [];\n",
    "    _.find(data, function(val, key, data) {\n",
    "        return predicate(val, key, data) && list2.push(val) == limit;\n",
    "    })\n",
    "    return list2;\n",
    "}"
   ]
  },
  {
   "cell_type": "code",
   "execution_count": 52,
   "metadata": {},
   "outputs": [
    {
     "name": "stdout",
     "output_type": "stream",
     "text": [
      "[ 0, 2, 4, 6, 8 ]\n"
     ]
    }
   ],
   "source": [
    "console.log(\n",
    "    _.filter2(list, function(num) { return num % 2 == 0; }, 5)\n",
    ");"
   ]
  },
  {
   "cell_type": "markdown",
   "metadata": {},
   "source": [
    "### 3.1.4"
   ]
  },
  {
   "cell_type": "code",
   "execution_count": 53,
   "metadata": {},
   "outputs": [],
   "source": [
    "function mul10(num) { return num * 10 }\n",
    "function sub10(num) { return num - 10 }\n",
    "function square(num) { return num * num }"
   ]
  },
  {
   "cell_type": "code",
   "execution_count": 54,
   "metadata": {},
   "outputs": [],
   "source": [
    "var list = [1, 2, 3, 4, 5];\n",
    "var result2 =\n",
    "    _.chain(list)\n",
    "        .map(mul10)\n",
    "        .map(sub10)\n",
    "        .map(square)\n",
    "        .value();"
   ]
  },
  {
   "cell_type": "code",
   "execution_count": 55,
   "metadata": {},
   "outputs": [
    {
     "name": "stdout",
     "output_type": "stream",
     "text": [
      "[ 0, 100, 400, 900, 1600 ]\n"
     ]
    }
   ],
   "source": [
    "console.log(result2);"
   ]
  },
  {
   "cell_type": "code",
   "execution_count": 56,
   "metadata": {},
   "outputs": [],
   "source": [
    "var list = [1, 2, 3, 4, 5];\n",
    "var result1 =\n",
    "    lodash.chain(list)\n",
    "        .map(mul10)\n",
    "        .map(sub10)\n",
    "        .map(square)\n",
    "        .value();"
   ]
  },
  {
   "cell_type": "code",
   "execution_count": 57,
   "metadata": {},
   "outputs": [
    {
     "name": "stdout",
     "output_type": "stream",
     "text": [
      "[ 0, 100, 400, 900, 1600 ]\n"
     ]
    }
   ],
   "source": [
    "console.log(result1);"
   ]
  },
  {
   "cell_type": "code",
   "execution_count": 58,
   "metadata": {},
   "outputs": [
    {
     "data": {
      "text/plain": [
       "[ 0, 100, 400, 900, 1600 ]"
      ]
     },
     "execution_count": 58,
     "metadata": {},
     "output_type": "execute_result"
    }
   ],
   "source": [
    "_.map(list, _.compose(square, sub10, mul10))"
   ]
  },
  {
   "cell_type": "code",
   "execution_count": 59,
   "metadata": {},
   "outputs": [
    {
     "data": {
      "text/plain": [
       "[ 0, 100, 400, 900, 1600 ]"
      ]
     },
     "execution_count": 59,
     "metadata": {},
     "output_type": "execute_result"
    }
   ],
   "source": [
    "_.map(list, _.compose(\n",
    "    function(num) { return num * num },\n",
    "    function(num) { return num - 10 },\n",
    "    function(num) { return num * 10 }\n",
    "))"
   ]
  },
  {
   "cell_type": "code",
   "execution_count": 60,
   "metadata": {},
   "outputs": [
    {
     "data": {
      "text/plain": [
       "[ 0, 100, 400, 900, 1600 ]"
      ]
     },
     "execution_count": 60,
     "metadata": {},
     "output_type": "execute_result"
    }
   ],
   "source": [
    "_.map(list, num => square(sub10(mul10(num))))"
   ]
  },
  {
   "cell_type": "code",
   "execution_count": 61,
   "metadata": {},
   "outputs": [],
   "source": [
    "var users = [\n",
    "    { id: 1, name: \"ID\", age: 32, team_id: 2 },\n",
    "    { id: 2, name: \"HA\", age: 25, team_id: 2 },\n",
    "    { id: 3, name: \"BJ\", age: 32, team_id: 1 },\n",
    "    { id: 4, name: \"PJ\", age: 28, team_id: 1 },\n",
    "    { id: 5, name: \"JE\", age: 27, team_id: 2 },\n",
    "    { id: 6, name: \"JM\", age: 32, team_id: 1 },\n",
    "    { id: 7, name: \"HI\", age: 24, team_id: 2 }\n",
    "]"
   ]
  },
  {
   "cell_type": "code",
   "execution_count": 62,
   "metadata": {},
   "outputs": [],
   "source": [
    "var me = { id: 3, name: \"BJ\", age: 32 }"
   ]
  },
  {
   "cell_type": "code",
   "execution_count": 63,
   "metadata": {},
   "outputs": [],
   "source": [
    "var query = _.chain(users)\n",
    "    .filter(function(user) {\n",
    "        return user.age == me.age;\n",
    "    })\n",
    "    .reject(function(user) {\n",
    "        return user.id == me.id;\n",
    "    });"
   ]
  },
  {
   "cell_type": "code",
   "execution_count": 64,
   "metadata": {},
   "outputs": [],
   "source": [
    "var query = lodash.chain(users)\n",
    "    .filter(function(user) {\n",
    "        return user.age = me.age;\n",
    "    })\n",
    "    .reject(function(user) {\n",
    "        return user.id == me.id\n",
    "    });"
   ]
  },
  {
   "cell_type": "markdown",
   "metadata": {},
   "source": [
    "### 3.1.6"
   ]
  },
  {
   "cell_type": "code",
   "execution_count": 65,
   "metadata": {},
   "outputs": [
    {
     "name": "stdout",
     "output_type": "stream",
     "text": [
      "1\n",
      "2\n"
     ]
    },
    {
     "data": {
      "text/plain": [
       "[ 1, 2, 3, 4, 5 ]"
      ]
     },
     "execution_count": 65,
     "metadata": {},
     "output_type": "execute_result"
    }
   ],
   "source": [
    "var _i = 0;\n",
    "_.each([1,2,3,4,5], function(v) {\n",
    "    _i++;\n",
    "    if (v < 3) console.log(v);\n",
    "})"
   ]
  },
  {
   "cell_type": "code",
   "execution_count": 66,
   "metadata": {},
   "outputs": [
    {
     "name": "stdout",
     "output_type": "stream",
     "text": [
      "5 '번 반복'\n"
     ]
    }
   ],
   "source": [
    "console.log(_i, \"번 반복\");"
   ]
  },
  {
   "cell_type": "code",
   "execution_count": 67,
   "metadata": {},
   "outputs": [
    {
     "name": "stdout",
     "output_type": "stream",
     "text": [
      "1\n",
      "2\n"
     ]
    },
    {
     "data": {
      "text/plain": [
       "[ 1, 2, 3, 4, 5 ]"
      ]
     },
     "execution_count": 67,
     "metadata": {},
     "output_type": "execute_result"
    }
   ],
   "source": [
    "var lodash_i = 0;\n",
    "lodash.each([1,2,3,4,5], function(v) {\n",
    "    lodash_i++;\n",
    "    console.log(v);\n",
    "    return v < 2;\n",
    "});"
   ]
  },
  {
   "cell_type": "code",
   "execution_count": 68,
   "metadata": {},
   "outputs": [
    {
     "name": "stdout",
     "output_type": "stream",
     "text": [
      "2 '번 반복'\n"
     ]
    }
   ],
   "source": [
    "console.log(lodash_i, '번 반복');"
   ]
  },
  {
   "cell_type": "code",
   "execution_count": 69,
   "metadata": {},
   "outputs": [],
   "source": [
    "function printBool(val) {\n",
    "    var result = Boolean(val);\n",
    "    console.log(result);\n",
    "    return result;\n",
    "}"
   ]
  },
  {
   "cell_type": "code",
   "execution_count": 70,
   "metadata": {},
   "outputs": [
    {
     "name": "stdout",
     "output_type": "stream",
     "text": [
      "true\n",
      "true\n",
      "false\n",
      "true\n",
      "true\n"
     ]
    },
    {
     "data": {
      "text/plain": [
       "[ 1, 2, 0, 20, 50 ]"
      ]
     },
     "execution_count": 70,
     "metadata": {},
     "output_type": "execute_result"
    }
   ],
   "source": [
    "_.each([1, 2, 0, 20, 50], printBool);"
   ]
  },
  {
   "cell_type": "code",
   "execution_count": 71,
   "metadata": {},
   "outputs": [
    {
     "name": "stdout",
     "output_type": "stream",
     "text": [
      "true\n",
      "true\n",
      "false\n"
     ]
    },
    {
     "data": {
      "text/plain": [
       "[ 1, 2, 0, 20, 50 ]"
      ]
     },
     "execution_count": 71,
     "metadata": {},
     "output_type": "execute_result"
    }
   ],
   "source": [
    "lodash.each([1, 2, 0, 20, 50], printBool);"
   ]
  },
  {
   "cell_type": "code",
   "execution_count": 72,
   "metadata": {},
   "outputs": [
    {
     "name": "stdout",
     "output_type": "stream",
     "text": [
      "true\n",
      "true\n",
      "false\n",
      "true\n",
      "true\n"
     ]
    },
    {
     "data": {
      "text/plain": [
       "[ true, true, false, true, true ]"
      ]
     },
     "execution_count": 72,
     "metadata": {},
     "output_type": "execute_result"
    }
   ],
   "source": [
    "lodash.map([1, 2, 0, 20, 50], printBool);"
   ]
  },
  {
   "cell_type": "code",
   "execution_count": 73,
   "metadata": {},
   "outputs": [
    {
     "name": "stdout",
     "output_type": "stream",
     "text": [
      "true\n",
      "true\n",
      "false\n",
      "true\n",
      "true\n"
     ]
    },
    {
     "data": {
      "text/plain": [
       "[ 1, 2, 0, 20, 50 ]"
      ]
     },
     "execution_count": 73,
     "metadata": {},
     "output_type": "execute_result"
    }
   ],
   "source": [
    "lodash.each([1, 2, 0, 20, 50], function(v) { printBool(v); });"
   ]
  },
  {
   "cell_type": "code",
   "execution_count": 74,
   "metadata": {},
   "outputs": [
    {
     "name": "stdout",
     "output_type": "stream",
     "text": [
      "true\n",
      "true\n",
      "false\n"
     ]
    },
    {
     "data": {
      "text/plain": [
       "[ 1, 2, 0, 20, 50 ]"
      ]
     },
     "execution_count": 74,
     "metadata": {},
     "output_type": "execute_result"
    }
   ],
   "source": [
    "lodash.each([1, 2, 0, 20, 50], v => printBool(v));"
   ]
  },
  {
   "cell_type": "code",
   "execution_count": 75,
   "metadata": {},
   "outputs": [
    {
     "name": "stdout",
     "output_type": "stream",
     "text": [
      "true\n",
      "true\n",
      "false\n"
     ]
    },
    {
     "data": {
      "text/plain": [
       "false"
      ]
     },
     "execution_count": 75,
     "metadata": {},
     "output_type": "execute_result"
    }
   ],
   "source": [
    "_.every([1, 2, 0, 20, 50], printBool);"
   ]
  },
  {
   "cell_type": "code",
   "execution_count": 76,
   "metadata": {},
   "outputs": [
    {
     "name": "stdout",
     "output_type": "stream",
     "text": [
      "true\n"
     ]
    },
    {
     "data": {
      "text/plain": [
       "true"
      ]
     },
     "execution_count": 76,
     "metadata": {},
     "output_type": "execute_result"
    }
   ],
   "source": [
    "_.some([1, 2, 0, 20, 50], printBool);"
   ]
  },
  {
   "cell_type": "markdown",
   "metadata": {},
   "source": [
    "## 3.2"
   ]
  },
  {
   "cell_type": "markdown",
   "metadata": {},
   "source": [
    "### 3.2.1"
   ]
  },
  {
   "cell_type": "code",
   "execution_count": 77,
   "metadata": {},
   "outputs": [],
   "source": [
    "var list1 = {};"
   ]
  },
  {
   "cell_type": "code",
   "execution_count": 78,
   "metadata": {},
   "outputs": [
    {
     "data": {
      "text/plain": [
       "3"
      ]
     },
     "execution_count": 78,
     "metadata": {},
     "output_type": "execute_result"
    }
   ],
   "source": [
    "list1[0] = 1, list1[1] = 2, list1[2] = 3, list1.length = 3;"
   ]
  },
  {
   "cell_type": "code",
   "execution_count": 79,
   "metadata": {},
   "outputs": [
    {
     "data": {
      "text/plain": [
       "[Function]"
      ]
     },
     "execution_count": 79,
     "metadata": {},
     "output_type": "execute_result"
    }
   ],
   "source": [
    "list1.pop = function() {\n",
    "    delete this[this.length - 1];\n",
    "}"
   ]
  },
  {
   "cell_type": "code",
   "execution_count": 80,
   "metadata": {},
   "outputs": [
    {
     "name": "stdout",
     "output_type": "stream",
     "text": [
      "true\n"
     ]
    }
   ],
   "source": [
    "console.log(list1[0] == 1 && list1[1] == 2 && list1[2] == 3);"
   ]
  },
  {
   "cell_type": "code",
   "execution_count": 81,
   "metadata": {},
   "outputs": [],
   "source": [
    "list1.pop();"
   ]
  },
  {
   "cell_type": "code",
   "execution_count": 82,
   "metadata": {},
   "outputs": [
    {
     "name": "stdout",
     "output_type": "stream",
     "text": [
      "3\n"
     ]
    }
   ],
   "source": [
    "console.log(list1.length);"
   ]
  },
  {
   "cell_type": "code",
   "execution_count": 83,
   "metadata": {},
   "outputs": [
    {
     "name": "stdout",
     "output_type": "stream",
     "text": [
      "false\n"
     ]
    }
   ],
   "source": [
    "console.log(list1.constructor == Array)"
   ]
  },
  {
   "cell_type": "code",
   "execution_count": 84,
   "metadata": {},
   "outputs": [
    {
     "data": {
      "text/plain": [
       "3"
      ]
     },
     "execution_count": 84,
     "metadata": {},
     "output_type": "execute_result"
    }
   ],
   "source": [
    "var d1 = { name: 'PJ', age: 25 };\n",
    "var d2 = [1, 2, 3];\n",
    "var d3 = function() {\n",
    "    return arguments;\n",
    "} (1, 2, 3);\n",
    "// var d4 = $('div');\n",
    "var d5 = { length: 3 };\n",
    "d5[0] = 1, d5[1] = 2, d5[2] = 3;\n",
    "var d6 = \"hi\";"
   ]
  },
  {
   "cell_type": "code",
   "execution_count": 85,
   "metadata": {},
   "outputs": [
    {
     "name": "stdout",
     "output_type": "stream",
     "text": [
      "1\n",
      "2\n",
      "3\n",
      "undefined\n"
     ]
    }
   ],
   "source": [
    "console.log(d3[0]);\n",
    "console.log(d3[1]);\n",
    "console.log(d3[2]);\n",
    "console.log(d3.push);"
   ]
  },
  {
   "cell_type": "code",
   "execution_count": 86,
   "metadata": {},
   "outputs": [],
   "source": [
    "var MAX_ARRAY_INDEX = Math.pow(2, 53) - 1;\n",
    "var isArrayLike = function(list) {\n",
    "    var length = list == null ? void 0 : list.length;\n",
    "    return typeof length == 'number' && length >= 0 && length <= MAX_ARRAY_INDEX;\n",
    "};"
   ]
  },
  {
   "cell_type": "code",
   "execution_count": 87,
   "metadata": {},
   "outputs": [
    {
     "name": "stdout",
     "output_type": "stream",
     "text": [
      "[Arguments] { '0': undefined, '1': 0, '2': [Function] }\n",
      "[Arguments] { '0': undefined, '1': 1, '2': [Function] }\n"
     ]
    },
    {
     "data": {
      "text/plain": [
       "[Function]"
      ]
     },
     "execution_count": 87,
     "metadata": {},
     "output_type": "execute_result"
    }
   ],
   "source": [
    "_.each(function(a,b){}, function() {\n",
    "    console.log(arguments);\n",
    "});"
   ]
  },
  {
   "cell_type": "code",
   "execution_count": 88,
   "metadata": {},
   "outputs": [
    {
     "name": "stdout",
     "output_type": "stream",
     "text": [
      "[Arguments] { '0': undefined, '1': 0, '2': { length: 4 } }\n",
      "[Arguments] { '0': undefined, '1': 1, '2': { length: 4 } }\n",
      "[Arguments] { '0': undefined, '1': 2, '2': { length: 4 } }\n",
      "[Arguments] { '0': undefined, '1': 3, '2': { length: 4 } }\n"
     ]
    },
    {
     "data": {
      "text/plain": [
       "{ length: 4 }"
      ]
     },
     "execution_count": 88,
     "metadata": {},
     "output_type": "execute_result"
    }
   ],
   "source": [
    "_.each({ length: 4 }, function() {\n",
    "    console.log(arguments);\n",
    "})"
   ]
  },
  {
   "cell_type": "code",
   "execution_count": 89,
   "metadata": {},
   "outputs": [
    {
     "data": {
      "text/plain": [
       "0"
      ]
     },
     "execution_count": 89,
     "metadata": {},
     "output_type": "execute_result"
    }
   ],
   "source": [
    "_.each(0, function() {\n",
    "    console.log(arguments);\n",
    "});"
   ]
  },
  {
   "cell_type": "code",
   "execution_count": 90,
   "metadata": {},
   "outputs": [],
   "source": [
    "_.each(undefined, function() {\n",
    "    console.log(arguments);\n",
    "});"
   ]
  },
  {
   "cell_type": "code",
   "execution_count": 91,
   "metadata": {},
   "outputs": [
    {
     "data": {
      "text/plain": [
       "NaN"
      ]
     },
     "execution_count": 91,
     "metadata": {},
     "output_type": "execute_result"
    }
   ],
   "source": [
    "_.each(NaN, function() {\n",
    "    console.log(arguments);\n",
    "});"
   ]
  },
  {
   "cell_type": "code",
   "execution_count": 92,
   "metadata": {},
   "outputs": [],
   "source": [
    "function func1(data) {\n",
    "    var keys = _.keys(data);\n",
    "    for (var i = 0; i < keys.length; i++) {\n",
    "    }\n",
    "}\n",
    "func1(null);"
   ]
  },
  {
   "cell_type": "code",
   "execution_count": 93,
   "metadata": {},
   "outputs": [
    {
     "ename": "TypeError",
     "evalue": "Cannot read property 'length' of undefined",
     "output_type": "error",
     "traceback": [
      "evalmachine.<anonymous>:2",
      "    for (var i = 0, len = data.length; i < len; i++) {}",
      "                               ^",
      "",
      "TypeError: Cannot read property 'length' of undefined",
      "    at func2 (evalmachine.<anonymous>:2:32)",
      "    at evalmachine.<anonymous>:4:1",
      "    at Script.runInThisContext (vm.js:96:20)",
      "    at Object.runInThisContext (vm.js:303:38)",
      "    at run ([eval]:1002:15)",
      "    at onRunRequest ([eval]:829:18)",
      "    at onMessage ([eval]:789:13)",
      "    at process.emit (events.js:182:13)",
      "    at emit (internal/child_process.js:812:12)",
      "    at process._tickCallback (internal/process/next_tick.js:63:19)"
     ]
    }
   ],
   "source": [
    "function func2(data) {\n",
    "    for (var i = 0, len = data.length; i < len; i++) {}\n",
    "}\n",
    "func2(undefined);"
   ]
  },
  {
   "cell_type": "code",
   "execution_count": 95,
   "metadata": {},
   "outputs": [],
   "source": [
    "function func2(data) {\n",
    "    for (var i = 0, len = getLength(data); i < len; i++) {}\n",
    "}\n",
    "func2(undefined);\n",
    "\n",
    "function getLength(list) {\n",
    "    return list == null ? undefined : list.length;\n",
    "}"
   ]
  },
  {
   "cell_type": "markdown",
   "metadata": {},
   "source": [
    "### 3.2.2"
   ]
  },
  {
   "cell_type": "code",
   "execution_count": 96,
   "metadata": {},
   "outputs": [
    {
     "data": {
      "text/plain": [
       "[Function]"
      ]
     },
     "execution_count": 96,
     "metadata": {},
     "output_type": "execute_result"
    }
   ],
   "source": [
    "_.map = function(list, iteratee) {\n",
    "    var new_list = [];\n",
    "    for (var i = 0, len = list.length; i < len; i++) {\n",
    "        new_list.push(iteratee(list[i], i, list));\n",
    "    }\n",
    "    return new_list;\n",
    "}"
   ]
  },
  {
   "cell_type": "code",
   "execution_count": 98,
   "metadata": {},
   "outputs": [],
   "source": [
    "var _ = {};"
   ]
  },
  {
   "cell_type": "code",
   "execution_count": 99,
   "metadata": {},
   "outputs": [],
   "source": [
    "var MAX_ARRAY_INDEX = Math.pow(2, 53) - 1;\n",
    "function getLength(list) {\n",
    "    return list == null ? void 0 : list.length;\n",
    "}"
   ]
  },
  {
   "cell_type": "code",
   "execution_count": 101,
   "metadata": {},
   "outputs": [],
   "source": [
    "var isArrayLike = function(list) {\n",
    "    var length = getLength(list);\n",
    "    return typeof length == 'number' && length >= 0 && length <= MAX_ARRAY_INDEX;\n",
    "};"
   ]
  },
  {
   "cell_type": "code",
   "execution_count": 105,
   "metadata": {},
   "outputs": [
    {
     "data": {
      "text/plain": [
       "[Function]"
      ]
     },
     "execution_count": 105,
     "metadata": {},
     "output_type": "execute_result"
    }
   ],
   "source": [
    "_.map = function(data, iteratee) {\n",
    "    var new_list = [];\n",
    "    if (isArrayLike(data)) {\n",
    "        for (var i = 0, len = data.length; i < len; i++) {\n",
    "            new_list.push(iteratee(data[i], i, data));\n",
    "        }\n",
    "    } else {\n",
    "        for (var key in data) {\n",
    "            if (data.hasOwnProperty(key)) new_list.push(iteratee(data[key], key, data));\n",
    "        }\n",
    "    }\n",
    "    return new_list;\n",
    "};"
   ]
  },
  {
   "cell_type": "code",
   "execution_count": 106,
   "metadata": {},
   "outputs": [
    {
     "data": {
      "text/plain": [
       "[ 2, 4, 6 ]"
      ]
     },
     "execution_count": 106,
     "metadata": {},
     "output_type": "execute_result"
    }
   ],
   "source": [
    "_.map([1, 2, 3], function(v) {\n",
    "    return v * 2;\n",
    "});"
   ]
  },
  {
   "cell_type": "code",
   "execution_count": 108,
   "metadata": {},
   "outputs": [
    {
     "data": {
      "text/plain": [
       "[ 6, 4, 2 ]"
      ]
     },
     "execution_count": 108,
     "metadata": {},
     "output_type": "execute_result"
    }
   ],
   "source": [
    "_.map({a: 3, b: 2, c: 1}, function(v) {\n",
    "    return v * 2;\n",
    "});"
   ]
  },
  {
   "cell_type": "code",
   "execution_count": 109,
   "metadata": {},
   "outputs": [
    {
     "data": {
      "text/plain": [
       "[ 5, 10, 15 ]"
      ]
     },
     "execution_count": 109,
     "metadata": {},
     "output_type": "execute_result"
    }
   ],
   "source": [
    "_.map([1, 2, 3], function(v) {\n",
    "    return v * this;\n",
    "}.bind(5));"
   ]
  },
  {
   "cell_type": "markdown",
   "metadata": {},
   "source": [
    "### 3.2.3"
   ]
  },
  {
   "cell_type": "code",
   "execution_count": 111,
   "metadata": {},
   "outputs": [
    {
     "data": {
      "text/plain": [
       "[Function]"
      ]
     },
     "execution_count": 111,
     "metadata": {},
     "output_type": "execute_result"
    }
   ],
   "source": [
    "_.identity = function(v) {\n",
    "    return v;\n",
    "};\n",
    "_.idtt = _.identity;\n",
    "_.values = function(list) {\n",
    "    return _.map(list, _.identity);\n",
    "};"
   ]
  },
  {
   "cell_type": "code",
   "execution_count": 112,
   "metadata": {},
   "outputs": [
    {
     "name": "stdout",
     "output_type": "stream",
     "text": [
      "[ 5, 'JE', 27 ]\n"
     ]
    }
   ],
   "source": [
    "console.log(_.values({id: 5, name: \"JE\", age: 27}));"
   ]
  },
  {
   "cell_type": "code",
   "execution_count": 113,
   "metadata": {},
   "outputs": [
    {
     "data": {
      "text/plain": [
       "[Function]"
      ]
     },
     "execution_count": 113,
     "metadata": {},
     "output_type": "execute_result"
    }
   ],
   "source": [
    "_.args0 = _.identity;"
   ]
  },
  {
   "cell_type": "code",
   "execution_count": 114,
   "metadata": {},
   "outputs": [
    {
     "data": {
      "text/plain": [
       "[Function]"
      ]
     },
     "execution_count": 114,
     "metadata": {},
     "output_type": "execute_result"
    }
   ],
   "source": [
    "_.args1 = function(a, b) {\n",
    "    return b;\n",
    "};"
   ]
  },
  {
   "cell_type": "code",
   "execution_count": 115,
   "metadata": {},
   "outputs": [
    {
     "data": {
      "text/plain": [
       "[Function]"
      ]
     },
     "execution_count": 115,
     "metadata": {},
     "output_type": "execute_result"
    }
   ],
   "source": [
    "_.keys = function(list) {\n",
    "    return _.map(list, _.args1)\n",
    "};"
   ]
  },
  {
   "cell_type": "code",
   "execution_count": 117,
   "metadata": {},
   "outputs": [
    {
     "name": "stdout",
     "output_type": "stream",
     "text": [
      "[ 0, 1, 2 ]\n"
     ]
    }
   ],
   "source": [
    "console.log(_.keys([3, 2, 1]));"
   ]
  },
  {
   "cell_type": "code",
   "execution_count": 118,
   "metadata": {},
   "outputs": [
    {
     "name": "stdout",
     "output_type": "stream",
     "text": [
      "[ 'id', 'name', 'age' ]\n"
     ]
    }
   ],
   "source": [
    "console.log(_.keys({id: 5, name: \"JE\", age: 27}));"
   ]
  },
  {
   "cell_type": "markdown",
   "metadata": {},
   "source": [
    "### 3.2.4"
   ]
  },
  {
   "cell_type": "code",
   "execution_count": 120,
   "metadata": {},
   "outputs": [
    {
     "data": {
      "text/plain": [
       "[Function]"
      ]
     },
     "execution_count": 120,
     "metadata": {},
     "output_type": "execute_result"
    }
   ],
   "source": [
    "_.map = function(data, iteratee) {\n",
    "    var new_list = [];\n",
    "    if (isArrayLike(data)) {\n",
    "        for (var i = 0, len = data.length; i < len; i++) {\n",
    "            new_list.push(iteratee(data[i], i, data));\n",
    "        }\n",
    "    } else {\n",
    "        for (var key in data) {\n",
    "            if (data.hasOwnProperty(key)) new_list.push(iteratee(data[key], key, data));\n",
    "        }\n",
    "    }\n",
    "    return new_list;\n",
    "};"
   ]
  },
  {
   "cell_type": "code",
   "execution_count": 121,
   "metadata": {},
   "outputs": [
    {
     "data": {
      "text/plain": [
       "[Function]"
      ]
     },
     "execution_count": 121,
     "metadata": {},
     "output_type": "execute_result"
    }
   ],
   "source": [
    "_.each = function(data, iteratee) {\n",
    "    if (isArrayLike(data)) {\n",
    "        for (var i = 0, len = data.length; i < len; i++) {\n",
    "            iteratee(data[i], i, data);\n",
    "        }\n",
    "    } else {\n",
    "        for (var key in data) {\n",
    "            if (data.hasOwnProperty(key)) iteratee(data[key], key, data);\n",
    "        }\n",
    "    }\n",
    "    return data;\n",
    "};"
   ]
  },
  {
   "cell_type": "code",
   "execution_count": 122,
   "metadata": {},
   "outputs": [
    {
     "name": "stdout",
     "output_type": "stream",
     "text": [
      "1 0 [ 1, 2, 3 ]\n",
      "2 1 [ 1, 2, 3 ]\n",
      "3 2 [ 1, 2, 3 ]\n"
     ]
    },
    {
     "data": {
      "text/plain": [
       "[ 1, 2, 3 ]"
      ]
     },
     "execution_count": 122,
     "metadata": {},
     "output_type": "execute_result"
    }
   ],
   "source": [
    "_.each([1, 2, 3], console.log);"
   ]
  },
  {
   "cell_type": "code",
   "execution_count": 123,
   "metadata": {},
   "outputs": [
    {
     "name": "stdout",
     "output_type": "stream",
     "text": [
      "5 'id' { id: 5, name: 'JE', age: 27 }\n",
      "JE name { id: 5, name: 'JE', age: 27 }\n",
      "27 'age' { id: 5, name: 'JE', age: 27 }\n"
     ]
    },
    {
     "data": {
      "text/plain": [
       "{ id: 5, name: 'JE', age: 27 }"
      ]
     },
     "execution_count": 123,
     "metadata": {},
     "output_type": "execute_result"
    }
   ],
   "source": [
    "_.each({id: 5, name: \"JE\", age: 27}, console.log);"
   ]
  },
  {
   "cell_type": "markdown",
   "metadata": {},
   "source": [
    "### 3.2.5"
   ]
  },
  {
   "cell_type": "code",
   "execution_count": 125,
   "metadata": {},
   "outputs": [],
   "source": [
    "function bloop(new_data, body) {\n",
    "    return function(data, iteratee) {\n",
    "        var result = new_data(data);\n",
    "        if (isArrayLike(data)) {\n",
    "            for (var i = 0, len = data.length; i < len; i++) {\n",
    "                body(iteratee(data[i], i, data), result);\n",
    "            }\n",
    "        } else {\n",
    "            for (var key in data) {\n",
    "                if (data.hasOwnProperty(key)) \n",
    "                    body(iteratee(data[key], key, data), result);\n",
    "            }\n",
    "        }\n",
    "        return result;\n",
    "    }\n",
    "}"
   ]
  },
  {
   "cell_type": "code",
   "execution_count": 126,
   "metadata": {},
   "outputs": [
    {
     "data": {
      "text/plain": [
       "[Function]"
      ]
     },
     "execution_count": 126,
     "metadata": {},
     "output_type": "execute_result"
    }
   ],
   "source": [
    "_.map = bloop(function() {\n",
    "    return [];\n",
    "}, function(val, obj) {\n",
    "    return obj.push(val);\n",
    "});"
   ]
  },
  {
   "cell_type": "code",
   "execution_count": 128,
   "metadata": {},
   "outputs": [
    {
     "data": {
      "text/plain": [
       "[Function]"
      ]
     },
     "execution_count": 128,
     "metadata": {},
     "output_type": "execute_result"
    }
   ],
   "source": [
    "_.each = bloop(function(v) {\n",
    "    return v;\n",
    "}, function() {});"
   ]
  },
  {
   "cell_type": "code",
   "execution_count": 129,
   "metadata": {},
   "outputs": [
    {
     "name": "stdout",
     "output_type": "stream",
     "text": [
      "5\n",
      "6\n",
      "7\n"
     ]
    },
    {
     "data": {
      "text/plain": [
       "[ 5, 6, 7 ]"
      ]
     },
     "execution_count": 129,
     "metadata": {},
     "output_type": "execute_result"
    }
   ],
   "source": [
    "bloop(\n",
    "    function(v) { return v; },\n",
    "    function() {}\n",
    ") ([5, 6, 7], function(v) { console.log(v) });"
   ]
  },
  {
   "cell_type": "code",
   "execution_count": 132,
   "metadata": {},
   "outputs": [
    {
     "data": {
      "text/plain": [
       "[Function]"
      ]
     },
     "execution_count": 132,
     "metadata": {},
     "output_type": "execute_result"
    }
   ],
   "source": [
    "_.array = function() { return [] };\n",
    "_.push_to = function(val, obj) {\n",
    "    obj.push(val);\n",
    "    return val;\n",
    "};\n",
    "_.noop = function() {};\n",
    "_.map = bloop(_.array, _.push_to);\n",
    "_.each = bloop(_.identity, _.noop);"
   ]
  },
  {
   "cell_type": "markdown",
   "metadata": {},
   "source": [
    "### 3.2.6"
   ]
  },
  {
   "cell_type": "code",
   "execution_count": 134,
   "metadata": {},
   "outputs": [
    {
     "name": "stdout",
     "output_type": "stream",
     "text": [
      "[ 'name' ]\n"
     ]
    }
   ],
   "source": [
    "console.log(_.keys({ name: \"PJ\" }));"
   ]
  },
  {
   "cell_type": "code",
   "execution_count": 136,
   "metadata": {},
   "outputs": [
    {
     "name": "stdout",
     "output_type": "stream",
     "text": [
      "[ 'name' ]\n"
     ]
    }
   ],
   "source": [
    "console.log(Object.keys({ name: \"PJ\" }));"
   ]
  },
  {
   "cell_type": "code",
   "execution_count": 137,
   "metadata": {},
   "outputs": [
    {
     "name": "stdout",
     "output_type": "stream",
     "text": [
      "[]\n"
     ]
    }
   ],
   "source": [
    "console.log(_.keys(10));"
   ]
  },
  {
   "cell_type": "code",
   "execution_count": 139,
   "metadata": {},
   "outputs": [
    {
     "name": "stdout",
     "output_type": "stream",
     "text": [
      "[]\n"
     ]
    }
   ],
   "source": [
    "console.log(Object.keys(10));"
   ]
  },
  {
   "cell_type": "code",
   "execution_count": 140,
   "metadata": {},
   "outputs": [
    {
     "name": "stdout",
     "output_type": "stream",
     "text": [
      "[]\n"
     ]
    }
   ],
   "source": [
    "console.log(_.keys(null));"
   ]
  },
  {
   "cell_type": "code",
   "execution_count": 141,
   "metadata": {},
   "outputs": [
    {
     "ename": "TypeError",
     "evalue": "Cannot convert undefined or null to object",
     "output_type": "error",
     "traceback": [
      "evalmachine.<anonymous>:1",
      "console.log(Object.keys(null));",
      "                   ^",
      "",
      "TypeError: Cannot convert undefined or null to object",
      "    at Function.keys (<anonymous>)",
      "    at evalmachine.<anonymous>:1:20",
      "    at Script.runInThisContext (vm.js:96:20)",
      "    at Object.runInThisContext (vm.js:303:38)",
      "    at run ([eval]:1002:15)",
      "    at onRunRequest ([eval]:829:18)",
      "    at onMessage ([eval]:789:13)",
      "    at process.emit (events.js:182:13)",
      "    at emit (internal/child_process.js:812:12)",
      "    at process._tickCallback (internal/process/next_tick.js:63:19)"
     ]
    }
   ],
   "source": [
    "console.log(Object.keys(null));"
   ]
  },
  {
   "cell_type": "code",
   "execution_count": 143,
   "metadata": {},
   "outputs": [
    {
     "data": {
      "text/plain": [
       "[Function]"
      ]
     },
     "execution_count": 143,
     "metadata": {},
     "output_type": "execute_result"
    }
   ],
   "source": [
    "_.isFunction = function(obj) {\n",
    "    return toString.call(obj) === '[object Function]';\n",
    "};"
   ]
  },
  {
   "cell_type": "code",
   "execution_count": 147,
   "metadata": {},
   "outputs": [
    {
     "data": {
      "text/plain": [
       "[Function]"
      ]
     },
     "execution_count": 147,
     "metadata": {},
     "output_type": "execute_result"
    }
   ],
   "source": [
    "if (typeof /./ != 'function' ) {\n",
    "    _.isFunction = function(obj) {\n",
    "        return typeof obj == 'function' || false;\n",
    "    };\n",
    "};"
   ]
  },
  {
   "cell_type": "code",
   "execution_count": 148,
   "metadata": {},
   "outputs": [
    {
     "data": {
      "text/plain": [
       "[Function]"
      ]
     },
     "execution_count": 148,
     "metadata": {},
     "output_type": "execute_result"
    }
   ],
   "source": [
    "_.isObject = function(obj) {\n",
    "    var type = typeof obj;\n",
    "    return type === 'function' || type === 'object' && !!obj;\n",
    "};"
   ]
  },
  {
   "cell_type": "code",
   "execution_count": 149,
   "metadata": {},
   "outputs": [
    {
     "data": {
      "text/plain": [
       "[Function]"
      ]
     },
     "execution_count": 149,
     "metadata": {},
     "output_type": "execute_result"
    }
   ],
   "source": [
    "_.has = function(obj, key) {\n",
    "    return obj != null && Object.prototype.hasOwnProperty.call(obj, key);\n",
    "};"
   ]
  },
  {
   "cell_type": "code",
   "execution_count": 153,
   "metadata": {},
   "outputs": [],
   "source": [
    "var hasEnumBug = !{toString: null}.propertyIsEnumerable('toString');\n",
    "var nonEnumberableProps = \n",
    "    ['valueOf',\n",
    "     'isPrototypeOf',\n",
    "     'toString',\n",
    "     'propertyIsEnumerable',\n",
    "     'hasOwnProperty',\n",
    "     'toLocaleString'];"
   ]
  },
  {
   "cell_type": "code",
   "execution_count": 155,
   "metadata": {},
   "outputs": [],
   "source": [
    "function collectNonEnumProps(obj, keys) {\n",
    "    var nonEnumIdx = nonEnumberableProp.length;\n",
    "    var constructor = obj.constructor;\n",
    "    var proto = (_.isFunction(constructor) && constructor.prototype) || Object.prototype;\n",
    "    var prop = 'constructor';\n",
    "}"
   ]
  },
  {
   "cell_type": "code",
   "execution_count": null,
   "metadata": {},
   "outputs": [],
   "source": []
  }
 ],
 "metadata": {
  "kernelspec": {
   "display_name": "Javascript (Node.js)",
   "language": "javascript",
   "name": "javascript"
  },
  "language_info": {
   "file_extension": ".js",
   "mimetype": "application/javascript",
   "name": "javascript",
   "version": "10.15.0"
  }
 },
 "nbformat": 4,
 "nbformat_minor": 2
}
